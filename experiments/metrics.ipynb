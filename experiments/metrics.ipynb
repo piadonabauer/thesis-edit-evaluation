{
 "cells": [
  {
   "cell_type": "markdown",
   "metadata": {},
   "source": [
    "# State-of-the-art Automated Metrics\n",
    "List of metrics: https://pypi.org/project/piq/"
   ]
  },
  {
   "cell_type": "code",
   "execution_count": 1,
   "metadata": {},
   "outputs": [],
   "source": [
    "!pip install opencv-python -q\n",
    "!pip install torchvision -q\n",
    "!pip install torch-fidelity -q\n",
    "!pip install numpy -q\n",
    "!pip install torch -q\n",
    "!pip install 'transformers>=4.10.0' -q"
   ]
  },
  {
   "cell_type": "code",
   "execution_count": 2,
   "metadata": {},
   "outputs": [],
   "source": [
    "#!python -m pip install torchmetrics -q\n",
    "#!python3 -m pip install torchmetrics -q"
   ]
  },
  {
   "cell_type": "code",
   "execution_count": 3,
   "metadata": {},
   "outputs": [],
   "source": [
    "from tqdm import tqdm\n",
    "from PIL import Image\n",
    "from torchvision import transforms\n",
    "from torchmetrics.multimodal.clip_score import CLIPScore\n",
    "from torchmetrics.image.fid import FrechetInceptionDistance\n",
    "from torchmetrics.regression import MeanAbsoluteError, MeanSquaredError\n",
    "from torchmetrics.image.lpip import LearnedPerceptualImagePatchSimilarity\n",
    "from torchmetrics.image import StructuralSimilarityIndexMeasure, PeakSignalNoiseRatio"
   ]
  },
  {
   "cell_type": "code",
   "execution_count": 4,
   "metadata": {},
   "outputs": [],
   "source": [
    "import json\n",
    "import pandas as pd\n",
    "import re\n",
    "import cv2\n",
    "import numpy as np\n",
    "import torch\n",
    "import torch.nn.functional as F"
   ]
  },
  {
   "cell_type": "code",
   "execution_count": 5,
   "metadata": {},
   "outputs": [],
   "source": [
    "device = torch.device(\"cuda:0\" if torch.cuda.is_available() else \"cpu\")"
   ]
  },
  {
   "cell_type": "markdown",
   "metadata": {},
   "source": [
    "Load dev split of MagicBrush (incl. paths to images)."
   ]
  },
  {
   "cell_type": "code",
   "execution_count": 68,
   "metadata": {},
   "outputs": [],
   "source": [
    "dev_split = pd.read_csv(\"/home/jovyan/BA/Github/MagicBrush/dev_data_with_mask.csv\")"
   ]
  },
  {
   "cell_type": "code",
   "execution_count": 69,
   "metadata": {},
   "outputs": [
    {
     "data": {
      "text/html": [
       "<div>\n",
       "<style scoped>\n",
       "    .dataframe tbody tr th:only-of-type {\n",
       "        vertical-align: middle;\n",
       "    }\n",
       "\n",
       "    .dataframe tbody tr th {\n",
       "        vertical-align: top;\n",
       "    }\n",
       "\n",
       "    .dataframe thead th {\n",
       "        text-align: right;\n",
       "    }\n",
       "</style>\n",
       "<table border=\"1\" class=\"dataframe\">\n",
       "  <thead>\n",
       "    <tr style=\"text-align: right;\">\n",
       "      <th></th>\n",
       "      <th>img_id</th>\n",
       "      <th>turn_index</th>\n",
       "      <th>source_img</th>\n",
       "      <th>target_img</th>\n",
       "      <th>instruction</th>\n",
       "      <th>mask_img</th>\n",
       "    </tr>\n",
       "  </thead>\n",
       "  <tbody>\n",
       "    <tr>\n",
       "      <th>0</th>\n",
       "      <td>360871</td>\n",
       "      <td>1</td>\n",
       "      <td>/home/jovyan/BA/Github/MagicBrush/dev-00002-of...</td>\n",
       "      <td>/home/jovyan/BA/Github/MagicBrush/dev-00002-of...</td>\n",
       "      <td>What if the vegetables are in a bowl?</td>\n",
       "      <td>/home/jovyan/BA/Github/MagicBrush/dev-00002-of...</td>\n",
       "    </tr>\n",
       "    <tr>\n",
       "      <th>1</th>\n",
       "      <td>360871</td>\n",
       "      <td>2</td>\n",
       "      <td>/home/jovyan/BA/Github/MagicBrush/dev-00002-of...</td>\n",
       "      <td>/home/jovyan/BA/Github/MagicBrush/dev-00002-of...</td>\n",
       "      <td>Let's add a drawing of a flower to the fridge.</td>\n",
       "      <td>/home/jovyan/BA/Github/MagicBrush/dev-00002-of...</td>\n",
       "    </tr>\n",
       "  </tbody>\n",
       "</table>\n",
       "</div>"
      ],
      "text/plain": [
       "   img_id  turn_index                                         source_img  \\\n",
       "0  360871           1  /home/jovyan/BA/Github/MagicBrush/dev-00002-of...   \n",
       "1  360871           2  /home/jovyan/BA/Github/MagicBrush/dev-00002-of...   \n",
       "\n",
       "                                          target_img  \\\n",
       "0  /home/jovyan/BA/Github/MagicBrush/dev-00002-of...   \n",
       "1  /home/jovyan/BA/Github/MagicBrush/dev-00002-of...   \n",
       "\n",
       "                                      instruction  \\\n",
       "0           What if the vegetables are in a bowl?   \n",
       "1  Let's add a drawing of a flower to the fridge.   \n",
       "\n",
       "                                            mask_img  \n",
       "0  /home/jovyan/BA/Github/MagicBrush/dev-00002-of...  \n",
       "1  /home/jovyan/BA/Github/MagicBrush/dev-00002-of...  "
      ]
     },
     "execution_count": 69,
     "metadata": {},
     "output_type": "execute_result"
    }
   ],
   "source": [
    "dev_split.head(2)"
   ]
  },
  {
   "cell_type": "markdown",
   "metadata": {},
   "source": [
    "## Initializing Scores"
   ]
  },
  {
   "cell_type": "markdown",
   "metadata": {},
   "source": [
    "### Clip-Score\n",
    "- [Link](https://lightning.ai/docs/torchmetrics/stable/multimodal/clip_score.html)\n",
    "- Score is between 0 and 100, higher = better.\n",
    "- **Input**\n",
    "    - img = single tensor with shape (N, C, H, W), or multiple tensors\n",
    "    - text = str, or tensor\n",
    "- **Output**: float scalar tensor\n",
    "- **Paras**: model_name_or_path, e.g. \"openai/clip-vit-base-patch16\""
   ]
  },
  {
   "cell_type": "code",
   "execution_count": 14,
   "metadata": {},
   "outputs": [],
   "source": [
    "clip = CLIPScore(model_name_or_path=\"openai/clip-vit-base-patch32\")"
   ]
  },
  {
   "cell_type": "markdown",
   "metadata": {},
   "source": [
    "### Learned Perceptual Image Patch Similarity (LPIPS)\n",
    "- [Link](https://lightning.ai/docs/torchmetrics/stable/image/learned_perceptual_image_patch_similarity.html)\n",
    "- Calculates perceptual similarity between two images, low=more similar.\n",
    "- **Input**: 2 tensors img, shape (N, 3, H, W). The minimum size of H, W depends on the chosen backbone.\n",
    "- **Parameters**\n",
    "    - net_type (Literal['vgg', 'alex', 'squeeze'])\n",
    "    - reduction (Literal['sum', 'mean']) – str indicating how to reduce over the batch dimension. Choose between ‘sum’ or ‘mean’.\n",
    "    - normalize (bool) – by default this is False meaning that the input is expected to be in the [-1,1] range. If set to True will instead expect input to be in the [0,1] range."
   ]
  },
  {
   "cell_type": "code",
   "execution_count": 16,
   "metadata": {},
   "outputs": [],
   "source": [
    "lpips = LearnedPerceptualImagePatchSimilarity(\n",
    "    net_type=\"vgg\", reduction=\"mean\", normalize=True\n",
    ")"
   ]
  },
  {
   "cell_type": "markdown",
   "metadata": {},
   "source": [
    "### Structural Similarity Index Measure (SSIM)\n",
    "\n",
    "- [Link](https://lightning.ai/docs/torchmetrics/stable/image/structural_similarity.html)\n",
    "- Perceptual metric that quantifies image quality degradation.\n",
    "- Between -1 and 1, where 1 indicates perfect similarity, 0 indicates no similarity, and -1 indicates perfect anti-correlation.\n",
    "- **Output**: float scalar tensor with average SSIM value over sample else returns tensor of shape (N,) with SSIM values per sample."
   ]
  },
  {
   "cell_type": "code",
   "execution_count": 17,
   "metadata": {},
   "outputs": [],
   "source": [
    "ssim = StructuralSimilarityIndexMeasure(\n",
    "    gaussian_kernel=True, sigma=1.0, reduction=\"elementwise_mean\", data_range=None\n",
    ")"
   ]
  },
  {
   "cell_type": "markdown",
   "metadata": {},
   "source": [
    "### Peak Signal-to-Noise Ratio (PSNR)\n",
    "\n",
    "- [Link](https://lightning.ai/docs/torchmetrics/stable/image/peak_signal_noise_ratio.html)\n",
    "- Ratio between the maximum possible value (power) of a signal and the power of distorting noise that affects the quality of its representation.\n",
    "- **Output:**\n",
    "    - Range from 0 to infinity - Typically range from about 20 dB to 50 dB.\n",
    "    - Lower values indicate poorer quality, while higher values indicate better quality. 0 dB indicates that the images are identical.\n",
    "- **Orientation:**\n",
    "    - High Quality: Above 30 dB.\n",
    "    - Medium Quality: Between 20 dB and 30 dB.\n",
    "    - Low Quality: Below 20 dB."
   ]
  },
  {
   "cell_type": "code",
   "execution_count": 18,
   "metadata": {},
   "outputs": [],
   "source": [
    "psnr = PeakSignalNoiseRatio(\n",
    "    data_range=None, base=10, reduction=\"elementwise_mean\", dim=None\n",
    ")"
   ]
  },
  {
   "cell_type": "markdown",
   "metadata": {},
   "source": [
    "### Mean Absolute Error (MAE) und Mean Square Error (MSE)\n",
    "- [Link to MAE](https://lightning.ai/docs/torchmetrics/stable/regression/mean_absolute_error.html)\n",
    "- [Link to MSE](https://lightning.ai/docs/torchmetrics/stable/regression/mean_squared_error.html)\n",
    "- Compare the “true” pixel values of the original image to the degraded image.\n",
    "- MSE represents the average of the squares of the \"errors\" between the actual image and the noisy image.\n",
    "- **Output**:\n",
    "    - Between 0 and infinity.\n",
    "    - A lower MAE value indicates that the edited image is closer to the original image, while a higher MAE indicates greater differences."
   ]
  },
  {
   "cell_type": "code",
   "execution_count": 19,
   "metadata": {},
   "outputs": [],
   "source": [
    "mean_absolute_error = MeanAbsoluteError()\n",
    "mean_squared_error = MeanSquaredError()"
   ]
  },
  {
   "cell_type": "markdown",
   "metadata": {},
   "source": [
    "## Computing Scores"
   ]
  },
  {
   "cell_type": "code",
   "execution_count": 79,
   "metadata": {},
   "outputs": [],
   "source": [
    "target_size = (512, 512)"
   ]
  },
  {
   "cell_type": "code",
   "execution_count": 80,
   "metadata": {},
   "outputs": [],
   "source": [
    "def get_mask_area(output_image, mask_image):\n",
    "    output_array = np.array(output_image)\n",
    "    mask_array = np.array(mask_image)\n",
    "    masked_area = cv2.absdiff(output_array, mask_array)\n",
    "    return masked_area\n",
    "\n",
    "\n",
    "def get_mask_area_image(output_image, mask_image):\n",
    "    masked_area = get_mask_area(output_image, mask_image)\n",
    "    return Image.fromarray(masked_area)\n",
    "\n",
    "\n",
    "def get_tensor(image):\n",
    "    to_tensor = transforms.ToTensor()\n",
    "    return to_tensor(image).unsqueeze(0)\n",
    "\n",
    "\n",
    "def get_masked_area_tensor(output_image, mask_image):\n",
    "    masked_area_image = get_mask_area_image(output_image, mask_image)\n",
    "    return get_tensor(masked_area_image)"
   ]
  },
  {
   "cell_type": "markdown",
   "metadata": {},
   "source": [
    "Calculate four different scores: \n",
    "- edited area & unedited area\n",
    "- edited area & original image\n",
    "- original image & output image\n",
    "- unedited masked area & edited masked area\n",
    "\n",
    "Exception: CLIP\n",
    "- instruction & edited are\n",
    "- instruction & output image\n",
    "- instruction & input & output images averaged"
   ]
  },
  {
   "cell_type": "code",
   "execution_count": 64,
   "metadata": {},
   "outputs": [
    {
     "name": "stderr",
     "output_type": "stream",
     "text": [
      "Progress: 528it [32:09,  3.65s/it]\n"
     ]
    }
   ],
   "source": [
    "results = []\n",
    "\n",
    "for index, row in tqdm(dev_split.iterrows(), desc=\"Progress\"):\n",
    "    id = row[\"img_id\"]\n",
    "    turn = row[\"turn_index\"]\n",
    "    instruction = row[\"instruction\"]\n",
    "\n",
    "    # open images, resize to 512x512, and convert to RGB\n",
    "    output_image = Image.open(row[\"target_img\"]).resize(target_size).convert(\"RGB\")\n",
    "    input_image = Image.open(row[\"source_img\"]).resize(target_size).convert(\"RGB\")\n",
    "    mask_image = Image.open(row[\"mask_img\"]).resize(target_size).convert(\"RGB\")\n",
    "\n",
    "    masked_area_tensor = get_masked_area_tensor(output_image, mask_image)\n",
    "    # masked area prior to edit\n",
    "    initial_masked_area_tensor = get_masked_area_tensor(input_image, mask_image)\n",
    "\n",
    "    outside_mask_tensor = get_tensor(mask_image.convert(\"RGB\"))\n",
    "    output_image_tensor = get_tensor(output_image)\n",
    "    full_img_tensor = F.interpolate(\n",
    "        get_tensor(input_image), size=target_size, mode=\"bilinear\", align_corners=False\n",
    "    )\n",
    "\n",
    "    # image = torch.cat([get_tensor(input_image), get_tensor(output_image)], axis=1)\n",
    "    image = (get_tensor(input_image) + get_tensor(output_image)) / 2\n",
    "    image_tensor = F.interpolate(\n",
    "        image, size=target_size, mode=\"bilinear\", align_corners=False\n",
    "    )\n",
    "\n",
    "    metrics = {\n",
    "        \"clip\": lambda x, y: clip(x, y).detach().item(),\n",
    "        \"lpips\": lambda x, y: lpips(x, y).item(),\n",
    "        \"ssim\": lambda x, y: ssim(x, y).item(),\n",
    "        \"psnr\": lambda x, y: psnr(x, y).item(),\n",
    "        \"mae\": lambda x, y: mean_absolute_error(x, y).item(),\n",
    "        \"mse\": lambda x, y: mean_squared_error(x, y).item(),\n",
    "    }\n",
    "\n",
    "    # all metrics besides CLIP\n",
    "    pairs = {\n",
    "        \"1\": (masked_area_tensor, outside_mask_tensor),\n",
    "        \"2\": (masked_area_tensor, full_img_tensor),\n",
    "        \"3\": (full_img_tensor, output_image_tensor),\n",
    "        \"4\": (initial_masked_area_tensor, masked_area_tensor),\n",
    "    }\n",
    "\n",
    "    # CLIP\n",
    "    clip_pairs = {\n",
    "        \"1\": (masked_area_tensor.clip(0, 1), instruction),\n",
    "        \"2\": (output_image_tensor.clip(0, 1), instruction),\n",
    "        \"3\": (image_tensor.clip(0, 1), instruction),\n",
    "    }\n",
    "\n",
    "    result = {\"index\": index}\n",
    "\n",
    "    for i, (image, text) in clip_pairs.items():\n",
    "        result[f\"clip_score_{i}\"] = clip(image.squeeze(0), text).detach().item()\n",
    "\n",
    "    for metric, func in metrics.items():\n",
    "        if metric == \"clip\":\n",
    "            continue\n",
    "        for i, (x, y) in pairs.items():\n",
    "            result[f\"{metric}_score_{i}\"] = func(x, y)\n",
    "\n",
    "    results.append(result)"
   ]
  },
  {
   "cell_type": "code",
   "execution_count": 65,
   "metadata": {},
   "outputs": [],
   "source": [
    "for result in results:\n",
    "    for key, value in result.items():\n",
    "        if key != \"index\":\n",
    "            dev_split.at[result[\"index\"], key] = value"
   ]
  },
  {
   "cell_type": "code",
   "execution_count": 67,
   "metadata": {},
   "outputs": [],
   "source": [
    "dev_split.to_csv(\"auto_scores.csv\")"
   ]
  }
 ],
 "metadata": {
  "kernelspec": {
   "display_name": "Python 3 (ipykernel)",
   "language": "python",
   "name": "python3"
  },
  "language_info": {
   "codemirror_mode": {
    "name": "ipython",
    "version": 3
   },
   "file_extension": ".py",
   "mimetype": "text/x-python",
   "name": "python",
   "nbconvert_exporter": "python",
   "pygments_lexer": "ipython3",
   "version": "3.9.13"
  }
 },
 "nbformat": 4,
 "nbformat_minor": 4
}
