{
 "cells": [
  {
   "cell_type": "code",
   "execution_count": 61,
   "id": "34927d34-ebce-4610-b318-594c7eeb6efe",
   "metadata": {},
   "outputs": [],
   "source": [
    "import pandas as pd\n",
    "from ast import literal_eval\n",
    "import re"
   ]
  },
  {
   "cell_type": "code",
   "execution_count": 76,
   "id": "c8cbe2c3-8452-4473-8224-9952d9cbb3c9",
   "metadata": {},
   "outputs": [],
   "source": [
    "def extract_numbers(uid):\n",
    "    match = re.search(r'_(\\d+)_(\\d+)', uid)\n",
    "    if match:\n",
    "        return int(match.group(1)), int(match.group(2))  # Erste und zweite Zahl zurückgeben\n",
    "    return None, None"
   ]
  },
  {
   "cell_type": "code",
   "execution_count": 82,
   "id": "5d2e5471-e9c5-4fda-9789-ef48b5e8ba46",
   "metadata": {},
   "outputs": [],
   "source": [
    "def get_rater_df(rater: int):\n",
    "    rater = pd.read_csv(f\"Text-Guided_IE_rater{rater}.tsv\", sep=\"\\t\")\n",
    "    rater = rater[[ \"uid\", \"MagicBrush\"]]\n",
    "    rater[['id', 'turn']] = rater['uid'].apply(lambda x: pd.Series(extract_numbers(x)))\n",
    "    rater[\"MagicBrush\"] = rater[\"MagicBrush\"].apply(literal_eval)\n",
    "    rater[\"SC\"] = rater[\"MagicBrush\"].apply(lambda x: x[0])\n",
    "    rater[\"PQ\"] = rater[\"MagicBrush\"].apply(lambda x: x[1])\n",
    "    rater = rater.drop([\"MagicBrush\"], axis=1)\n",
    "    rater = rater.drop([\"uid\"], axis=1)\n",
    "    return rater"
   ]
  },
  {
   "cell_type": "code",
   "execution_count": 83,
   "id": "4f139f23-b08f-4ec2-bda8-f0c6cc01f074",
   "metadata": {},
   "outputs": [],
   "source": [
    "r1 = get_rater_df(1)"
   ]
  },
  {
   "cell_type": "code",
   "execution_count": 84,
   "id": "cf20e070-0748-4c6d-8cd8-d6a791d0b7c0",
   "metadata": {},
   "outputs": [
    {
     "data": {
      "text/html": [
       "<div>\n",
       "<style scoped>\n",
       "    .dataframe tbody tr th:only-of-type {\n",
       "        vertical-align: middle;\n",
       "    }\n",
       "\n",
       "    .dataframe tbody tr th {\n",
       "        vertical-align: top;\n",
       "    }\n",
       "\n",
       "    .dataframe thead th {\n",
       "        text-align: right;\n",
       "    }\n",
       "</style>\n",
       "<table border=\"1\" class=\"dataframe\">\n",
       "  <thead>\n",
       "    <tr style=\"text-align: right;\">\n",
       "      <th></th>\n",
       "      <th>id</th>\n",
       "      <th>turn</th>\n",
       "      <th>SC</th>\n",
       "      <th>PQ</th>\n",
       "    </tr>\n",
       "  </thead>\n",
       "  <tbody>\n",
       "    <tr>\n",
       "      <th>0</th>\n",
       "      <td>100081</td>\n",
       "      <td>1</td>\n",
       "      <td>0.0</td>\n",
       "      <td>1.0</td>\n",
       "    </tr>\n",
       "    <tr>\n",
       "      <th>1</th>\n",
       "      <td>100081</td>\n",
       "      <td>3</td>\n",
       "      <td>0.5</td>\n",
       "      <td>0.5</td>\n",
       "    </tr>\n",
       "    <tr>\n",
       "      <th>2</th>\n",
       "      <td>100558</td>\n",
       "      <td>1</td>\n",
       "      <td>0.0</td>\n",
       "      <td>1.0</td>\n",
       "    </tr>\n",
       "    <tr>\n",
       "      <th>3</th>\n",
       "      <td>102171</td>\n",
       "      <td>1</td>\n",
       "      <td>0.5</td>\n",
       "      <td>0.5</td>\n",
       "    </tr>\n",
       "    <tr>\n",
       "      <th>4</th>\n",
       "      <td>102625</td>\n",
       "      <td>1</td>\n",
       "      <td>0.0</td>\n",
       "      <td>0.0</td>\n",
       "    </tr>\n",
       "  </tbody>\n",
       "</table>\n",
       "</div>"
      ],
      "text/plain": [
       "       id  turn   SC   PQ\n",
       "0  100081     1  0.0  1.0\n",
       "1  100081     3  0.5  0.5\n",
       "2  100558     1  0.0  1.0\n",
       "3  102171     1  0.5  0.5\n",
       "4  102625     1  0.0  0.0"
      ]
     },
     "execution_count": 84,
     "metadata": {},
     "output_type": "execute_result"
    }
   ],
   "source": [
    "r1.head(5)"
   ]
  },
  {
   "cell_type": "code",
   "execution_count": 85,
   "id": "8e4c029d-8e6e-479a-8d70-4dacd852b9a8",
   "metadata": {},
   "outputs": [],
   "source": [
    "r1.to_csv(\"rater1.csv\", index=False)"
   ]
  },
  {
   "cell_type": "code",
   "execution_count": 86,
   "id": "6a0aee07-87d8-4756-b154-432817e0b508",
   "metadata": {},
   "outputs": [],
   "source": [
    "r2 = get_rater_df(2)"
   ]
  },
  {
   "cell_type": "code",
   "execution_count": 87,
   "id": "af6acf4c-564f-42fe-af91-72bad5ac5f51",
   "metadata": {},
   "outputs": [],
   "source": [
    "r2.to_csv(\"rater2.csv\", index=False)"
   ]
  },
  {
   "cell_type": "code",
   "execution_count": 88,
   "id": "e7b80546-9fbb-43f0-97bf-b999727cdce0",
   "metadata": {},
   "outputs": [],
   "source": [
    "r3 = get_rater_df(3)"
   ]
  },
  {
   "cell_type": "code",
   "execution_count": 89,
   "id": "ed1bd01a-b31a-4982-ac32-a609b668f458",
   "metadata": {},
   "outputs": [],
   "source": [
    "r3.to_csv(\"rater3.csv\", index=False)"
   ]
  },
  {
   "cell_type": "code",
   "execution_count": null,
   "id": "d6d00d54-5b04-4b15-a632-9cb341ffb7a4",
   "metadata": {},
   "outputs": [],
   "source": []
  },
  {
   "cell_type": "code",
   "execution_count": 94,
   "id": "737a365c-4cad-4eec-a979-66f779b14807",
   "metadata": {},
   "outputs": [
    {
     "data": {
      "text/html": [
       "<div>\n",
       "<style scoped>\n",
       "    .dataframe tbody tr th:only-of-type {\n",
       "        vertical-align: middle;\n",
       "    }\n",
       "\n",
       "    .dataframe tbody tr th {\n",
       "        vertical-align: top;\n",
       "    }\n",
       "\n",
       "    .dataframe thead th {\n",
       "        text-align: right;\n",
       "    }\n",
       "</style>\n",
       "<table border=\"1\" class=\"dataframe\">\n",
       "  <thead>\n",
       "    <tr style=\"text-align: right;\">\n",
       "      <th></th>\n",
       "      <th>img_id</th>\n",
       "      <th>turn_index</th>\n",
       "      <th>source_img</th>\n",
       "      <th>target_img</th>\n",
       "      <th>instruction</th>\n",
       "    </tr>\n",
       "  </thead>\n",
       "  <tbody>\n",
       "    <tr>\n",
       "      <th>0</th>\n",
       "      <td>360871</td>\n",
       "      <td>1</td>\n",
       "      <td>/home/jovyan/BA/Github/MagicBrush/dev-00002-of...</td>\n",
       "      <td>/home/jovyan/BA/Github/MagicBrush/dev-00002-of...</td>\n",
       "      <td>What if the vegetables are in a bowl?</td>\n",
       "    </tr>\n",
       "    <tr>\n",
       "      <th>1</th>\n",
       "      <td>360871</td>\n",
       "      <td>2</td>\n",
       "      <td>/home/jovyan/BA/Github/MagicBrush/dev-00002-of...</td>\n",
       "      <td>/home/jovyan/BA/Github/MagicBrush/dev-00002-of...</td>\n",
       "      <td>Let's add a drawing of a flower to the fridge.</td>\n",
       "    </tr>\n",
       "    <tr>\n",
       "      <th>2</th>\n",
       "      <td>147745</td>\n",
       "      <td>1</td>\n",
       "      <td>/home/jovyan/BA/Github/MagicBrush/dev-00002-of...</td>\n",
       "      <td>/home/jovyan/BA/Github/MagicBrush/dev-00002-of...</td>\n",
       "      <td>Let the sun shine.</td>\n",
       "    </tr>\n",
       "    <tr>\n",
       "      <th>3</th>\n",
       "      <td>289514</td>\n",
       "      <td>1</td>\n",
       "      <td>/home/jovyan/BA/Github/MagicBrush/dev-00002-of...</td>\n",
       "      <td>/home/jovyan/BA/Github/MagicBrush/dev-00002-of...</td>\n",
       "      <td>It could be a microwave next to the woman.</td>\n",
       "    </tr>\n",
       "    <tr>\n",
       "      <th>4</th>\n",
       "      <td>289514</td>\n",
       "      <td>2</td>\n",
       "      <td>/home/jovyan/BA/Github/MagicBrush/dev-00002-of...</td>\n",
       "      <td>/home/jovyan/BA/Github/MagicBrush/dev-00002-of...</td>\n",
       "      <td>Can it be a boy not a girl?</td>\n",
       "    </tr>\n",
       "  </tbody>\n",
       "</table>\n",
       "</div>"
      ],
      "text/plain": [
       "   img_id  turn_index                                         source_img  \\\n",
       "0  360871           1  /home/jovyan/BA/Github/MagicBrush/dev-00002-of...   \n",
       "1  360871           2  /home/jovyan/BA/Github/MagicBrush/dev-00002-of...   \n",
       "2  147745           1  /home/jovyan/BA/Github/MagicBrush/dev-00002-of...   \n",
       "3  289514           1  /home/jovyan/BA/Github/MagicBrush/dev-00002-of...   \n",
       "4  289514           2  /home/jovyan/BA/Github/MagicBrush/dev-00002-of...   \n",
       "\n",
       "                                          target_img  \\\n",
       "0  /home/jovyan/BA/Github/MagicBrush/dev-00002-of...   \n",
       "1  /home/jovyan/BA/Github/MagicBrush/dev-00002-of...   \n",
       "2  /home/jovyan/BA/Github/MagicBrush/dev-00002-of...   \n",
       "3  /home/jovyan/BA/Github/MagicBrush/dev-00002-of...   \n",
       "4  /home/jovyan/BA/Github/MagicBrush/dev-00002-of...   \n",
       "\n",
       "                                      instruction  \n",
       "0           What if the vegetables are in a bowl?  \n",
       "1  Let's add a drawing of a flower to the fridge.  \n",
       "2                              Let the sun shine.  \n",
       "3      It could be a microwave next to the woman.  \n",
       "4                     Can it be a boy not a girl?  "
      ]
     },
     "execution_count": 94,
     "metadata": {},
     "output_type": "execute_result"
    }
   ],
   "source": [
    "dev = pd.read_csv(\"/home/jovyan/BA/Github/MagicBrush/dev_data.csv\", sep=\",\")\n",
    "dev.head()"
   ]
  },
  {
   "cell_type": "code",
   "execution_count": 95,
   "id": "4bdb92f7-c4fa-428d-a680-e58eda48decb",
   "metadata": {},
   "outputs": [],
   "source": [
    "found_turn=1\n",
    "found_id=100081"
   ]
  },
  {
   "cell_type": "code",
   "execution_count": 96,
   "id": "cd5fc837-875f-4c17-89e4-fa98980d3419",
   "metadata": {},
   "outputs": [],
   "source": [
    "source_img = dev[(dev[\"turn_index\"] == found_turn) & (dev[\"img_id\"] == found_id)][\"source_img\"].iloc[0]\n",
    "target_img = dev[(dev[\"turn_index\"] == found_turn) & (dev[\"img_id\"] == found_id)][\"target_img\"].iloc[0]   "
   ]
  },
  {
   "cell_type": "code",
   "execution_count": 97,
   "id": "da763c47-fc5d-458b-ad96-9f857bf5cd6f",
   "metadata": {},
   "outputs": [
    {
     "data": {
      "text/plain": [
       "'/home/jovyan/BA/Github/MagicBrush/dev-00000-of-00004-f147d414270a90e1/100081-input.png'"
      ]
     },
     "execution_count": 97,
     "metadata": {},
     "output_type": "execute_result"
    }
   ],
   "source": [
    "source_img"
   ]
  },
  {
   "cell_type": "code",
   "execution_count": null,
   "id": "6b703619-d48a-40c3-9eaa-61cb723bc996",
   "metadata": {},
   "outputs": [],
   "source": []
  },
  {
   "cell_type": "code",
   "execution_count": null,
   "id": "835bdf9d-3f3b-4493-8b82-e40472a957ea",
   "metadata": {},
   "outputs": [],
   "source": []
  },
  {
   "cell_type": "code",
   "execution_count": 2,
   "id": "4319510b-ffae-4d19-9825-164ad1ca634c",
   "metadata": {},
   "outputs": [
    {
     "name": "stdout",
     "output_type": "stream",
     "text": [
      "Korrelation SC:\n",
      "          SC_df1    SC_df2        SC\n",
      "SC_df1  1.000000  0.731914  0.606169\n",
      "SC_df2  0.731914  1.000000  0.649575\n",
      "SC      0.606169  0.649575  1.000000\n",
      "\n",
      "Korrelation PQ:\n",
      "          PQ_df1    PQ_df2        PQ\n",
      "PQ_df1  1.000000  0.605739  0.415906\n",
      "PQ_df2  0.605739  1.000000  0.484380\n",
      "PQ      0.415906  0.484380  1.000000\n"
     ]
    }
   ],
   "source": [
    "import pandas as pd\n",
    "\n",
    "# Beispiel-DataFrames\n",
    "df1 = pd.read_csv(\"rater1.csv\")\n",
    "df2 = pd.read_csv(\"rater2.csv\")\n",
    "df3 = pd.read_csv(\"rater3.csv\")\n",
    "\n",
    "merged_df = df1.merge(df2, on=['turn', 'id'], suffixes=('_df1', '_df2'))\n",
    "merged_df = merged_df.merge(df3, on=['turn', 'id'])\n",
    "\n",
    "# Korrelationsmatrix berechnen für SC und PQ\n",
    "correlation_sc = merged_df[['SC_df1', 'SC_df2', 'SC']].corr()\n",
    "correlation_pq = merged_df[['PQ_df1', 'PQ_df2', 'PQ']].corr()\n",
    "\n",
    "print(\"Korrelation SC:\")\n",
    "print(correlation_sc)\n",
    "\n",
    "print(\"\\nKorrelation PQ:\")\n",
    "print(correlation_pq)"
   ]
  },
  {
   "cell_type": "code",
   "execution_count": null,
   "id": "4c4bc6d2-31e3-4f30-ae67-4477d18ea51c",
   "metadata": {},
   "outputs": [],
   "source": []
  }
 ],
 "metadata": {
  "kernelspec": {
   "display_name": "Python 3 (ipykernel)",
   "language": "python",
   "name": "python3"
  },
  "language_info": {
   "codemirror_mode": {
    "name": "ipython",
    "version": 3
   },
   "file_extension": ".py",
   "mimetype": "text/x-python",
   "name": "python",
   "nbconvert_exporter": "python",
   "pygments_lexer": "ipython3",
   "version": "3.9.13"
  }
 },
 "nbformat": 4,
 "nbformat_minor": 5
}
