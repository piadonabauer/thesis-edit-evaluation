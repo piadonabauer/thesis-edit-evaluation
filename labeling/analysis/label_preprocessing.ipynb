{
 "cells": [
  {
   "cell_type": "markdown",
   "id": "96775c3a-f93e-4dd2-8d05-a5b056e14893",
   "metadata": {},
   "source": [
    "# Preprocessing Human Annotation\n",
    "\n",
    "This script processes human annotation data for further analysis and evaluation. It performs the following steps:\n",
    "\n",
    "## Data Retrieval and Processing\n",
    "The data from the database is retrieved and converted into dataframes.\n",
    "\n",
    "### Descriptive Statistics\n",
    "The following descriptive statistics are computed to better understand the distribution of annotations:\n",
    "- **Mean**\n",
    "- **Median**\n",
    "- **Mode**\n",
    "- **Interquartile Range (IQR)**\n",
    "- **Standard Deviation**\n",
    "\n",
    "Additionally, **boxplots** are generated to visualize the spread of annotations across raters.\n",
    "\n",
    "### Agreement Measures\n",
    "To assess the reliability of the annotations, the following agreement measures are computed:\n",
    "- **Intraclass Correlation Coefficient (ICC)**\n",
    "- **Kendall’s Tau**\n",
    "\n",
    "### Data Aggregation\n",
    "To facilitate further comparison, the annotations from multiple raters are aggregated using the **mean**.\n",
    "\n",
    "### Qualitative Evaluation\n",
    "For a qualitative evaluation, the data is filtered for data points with the most discrepancies across raters.\n"
   ]
  },
  {
   "cell_type": "markdown",
   "id": "379e0cb7-ef86-4d70-b2e1-455f5d062d53",
   "metadata": {},
   "source": [
    "Install and load required libraries."
   ]
  },
  {
   "cell_type": "code",
   "execution_count": null,
   "id": "29d9d8ed-3d49-4a9f-897b-6b95f8a7fea0",
   "metadata": {},
   "outputs": [],
   "source": [
    "!pip install pingouin -q\n",
    "!pip install pymongo -q\n",
    "!pip install python-dotenv -q\n",
    "!pip install krippendorff -q\n",
    "!pip install --upgrade pandas -q\n",
    "#!pip install --upgrade seaborn -q\n",
    "#!pip install pandas==1.5.3 -q"
   ]
  },
  {
   "cell_type": "code",
   "execution_count": 3,
   "id": "fbc1616f-7ffd-4d12-8498-f19a667bab7a",
   "metadata": {},
   "outputs": [],
   "source": [
    "import numpy as np\n",
    "import pandas as pd\n",
    "from scipy.stats import mode, stats\n",
    "from pingouin import intraclass_corr\n",
    "from pymongo import MongoClient\n",
    "from dotenv import load_dotenv\n",
    "import os\n",
    "import pingouin as pg\n",
    "import matplotlib.pyplot as plt\n",
    "import seaborn as sns\n",
    "import krippendorff"
   ]
  },
  {
   "cell_type": "code",
   "execution_count": 5,
   "id": "8c9b46f6-50de-49b6-a168-dfa92221fdb8",
   "metadata": {},
   "outputs": [
    {
     "name": "stdout",
     "output_type": "stream",
     "text": [
      "2.2.3\n"
     ]
    }
   ],
   "source": [
    "print(pd.__version__)  # required: 2.2.3 !"
   ]
  },
  {
   "cell_type": "markdown",
   "id": "2380889d-e882-40e0-a6e1-085a09aa7e6d",
   "metadata": {},
   "source": [
    "### Set up MongoDB connection"
   ]
  },
  {
   "cell_type": "code",
   "execution_count": 6,
   "id": "95673033-6771-4055-a6a5-c3c719afdf16",
   "metadata": {},
   "outputs": [],
   "source": [
    "load_dotenv()  # load gitignore\n",
    "\n",
    "mongo_user = os.getenv(\"MONGO_USER\")\n",
    "mongo_password = os.getenv(\"MONGO_PASSWORD\")\n",
    "cluster_url = os.getenv(\"MONGO_CLUSTER_URL\")\n",
    "gradio_user = os.getenv(\"GRADIO_USER\")\n",
    "gradio_password = os.getenv(\"GRADIO_PASSWORD\")"
   ]
  },
  {
   "cell_type": "code",
   "execution_count": 7,
   "id": "08a257a5-1a22-46da-92c8-a32ae8deb21f",
   "metadata": {},
   "outputs": [],
   "source": [
    "connection_url = f\"mongodb+srv://{mongo_user}:{mongo_password}@{cluster_url}\"\n",
    "client = MongoClient(connection_url)\n",
    "db = client[\"thesis\"]\n",
    "collection = db[\"labeling\"]"
   ]
  },
  {
   "cell_type": "markdown",
   "id": "46a00280-9cd4-4a62-9a14-1c408be611ac",
   "metadata": {},
   "source": [
    "Retrieve labeled data given annotator names."
   ]
  },
  {
   "cell_type": "code",
   "execution_count": 8,
   "id": "c3234599-4957-4aee-94d5-953566bcd611",
   "metadata": {},
   "outputs": [],
   "source": [
    "def get_df(annotators):\n",
    "    pipeline = [\n",
    "        {\"$match\": {\"ratings.rater\": {\"$in\": list(annotators)}}},\n",
    "        {\"$unwind\": \"$ratings\"},\n",
    "        {\"$match\": {\"ratings.rater\": {\"$in\": list(annotators)}}},\n",
    "        {\n",
    "            \"$project\": {\n",
    "                \"id\": \"$meta_information.id\",\n",
    "                \"turn\": \"$meta_information.turn\",\n",
    "                \"rater\": \"$ratings.rater\",\n",
    "                \"alignment\": \"$ratings.alignment\",\n",
    "                \"quality\": \"$ratings.quality\",\n",
    "                \"consistency\": \"$ratings.consistency\",\n",
    "                \"overall\": \"$ratings.overall\",\n",
    "            }\n",
    "        },\n",
    "    ]\n",
    "\n",
    "    data = list(collection.aggregate(pipeline))\n",
    "    return pd.DataFrame(data)"
   ]
  },
  {
   "cell_type": "code",
   "execution_count": 9,
   "id": "d79037aa-ed76-4492-a1be-d4a6f756443a",
   "metadata": {},
   "outputs": [],
   "source": [
    "# specify the raters to determine which entries should be included in the dataframe\n",
    "# Canva's raters: \"ej\", \"renz\", \"basil\", \"Thomas\", \"sona\"\n",
    "\n",
    "df_3 = get_df({\"ej\", \"renz\", \"basil\"})\n",
    "# df_4 = get_df({\"ej\", \"renz\", \"basil\", \"pia\"})\n",
    "# df_5 = get_df({\"ej\", \"renz\", \"basil\", \"Thomas\", \"sona\"})"
   ]
  },
  {
   "cell_type": "code",
   "execution_count": 10,
   "id": "25d4ac17-1902-43f3-b0d6-2c2e344eaa7a",
   "metadata": {},
   "outputs": [],
   "source": [
    "# load own annotations of extreme cases\n",
    "pia = pd.read_csv(\"human_scores.csv\", sep=\";\")\n",
    "\n",
    "pia = pia.drop(\n",
    "    [\n",
    "        \"human_rating_binary\",\n",
    "        \"human_alignment_binary\",\n",
    "        \"human_aesthetics_binary\",\n",
    "        \"human_consistency_binary\",\n",
    "    ],\n",
    "    axis=1,\n",
    ")\n",
    "\n",
    "pia = pia.rename(\n",
    "    columns={\n",
    "        \"human_rating_multi\": \"overall\",\n",
    "        \"human_alignment_multi\": \"alignment\",\n",
    "        \"human_aesthetics_multi\": \"quality\",\n",
    "        \"human_consistency_multi\": \"consistency\",\n",
    "    }\n",
    ")"
   ]
  },
  {
   "cell_type": "code",
   "execution_count": 11,
   "id": "40710c1c-2105-45c1-8546-f06001d072e3",
   "metadata": {},
   "outputs": [],
   "source": [
    "# combine trained raters' annotations with own\n",
    "def combine_df_with_mine(df, rater):\n",
    "    pia[\"rater\"] = \"pia\"\n",
    "    df = pd.concat([df, pia], ignore_index=True)\n",
    "\n",
    "    rater_count = df.groupby([\"id\", \"turn\"])[\"rater\"].nunique().reset_index()\n",
    "    complete_cases = rater_count[rater_count[\"rater\"] == len(rater)][[\"id\", \"turn\"]]\n",
    "\n",
    "    df = df.merge(complete_cases, on=[\"id\", \"turn\"])\n",
    "    return df"
   ]
  },
  {
   "cell_type": "code",
   "execution_count": 12,
   "id": "c32ed412-3d81-4218-ae39-d963211209a3",
   "metadata": {},
   "outputs": [],
   "source": [
    "rater = {\"renz\", \"ej\", \"basil\", \"pia\"}\n",
    "df_all = combine_df_with_mine(df_3, rater)"
   ]
  },
  {
   "cell_type": "code",
   "execution_count": 9,
   "id": "79ead2e3-87d2-46b4-92a5-071c42027109",
   "metadata": {},
   "outputs": [],
   "source": [
    "# df.to_csv(\"thesis_annotations_thomas.csv\")"
   ]
  },
  {
   "cell_type": "markdown",
   "id": "77ca944e-dce1-4cf4-9645-5053c0e5d8f3",
   "metadata": {
    "tags": []
   },
   "source": [
    "## Analyze Annotations"
   ]
  },
  {
   "cell_type": "markdown",
   "id": "4f2e4484-2998-4d80-a353-94269d3ac18d",
   "metadata": {},
   "source": [
    "Check how many data points have been labeled by the same people."
   ]
  },
  {
   "cell_type": "code",
   "execution_count": 4,
   "id": "13705ea2-2f25-4dcf-86d5-6dc37a59984f",
   "metadata": {},
   "outputs": [],
   "source": [
    "df = pd.read_csv(\"annotations/annotations_02_25.csv\")\n",
    "df = df.drop(columns=[\"Unnamed: 0\"], axis=1)"
   ]
  },
  {
   "cell_type": "code",
   "execution_count": 5,
   "id": "f831bee3-5a27-4ff4-8237-e7125af35f44",
   "metadata": {},
   "outputs": [],
   "source": [
    "# filter df for only ratings of data points which were labeled by all raters\n",
    "def filter_complete_ratings(df, raters):\n",
    "    df_filtered = df[df[\"rater\"].isin(raters)]\n",
    "    rater_counts = df_filtered.groupby(\"_id\")[\"rater\"].nunique()\n",
    "    valid_ids = rater_counts[rater_counts == len(raters)].index\n",
    "    df_valid = df_filtered[df_filtered[\"_id\"].isin(valid_ids)]\n",
    "    return df_valid"
   ]
  },
  {
   "cell_type": "code",
   "execution_count": 6,
   "id": "25a1cfe7-c4e9-4190-8cb3-8fd729dfacd3",
   "metadata": {},
   "outputs": [
    {
     "data": {
      "text/html": [
       "<div>\n",
       "<style scoped>\n",
       "    .dataframe tbody tr th:only-of-type {\n",
       "        vertical-align: middle;\n",
       "    }\n",
       "\n",
       "    .dataframe tbody tr th {\n",
       "        vertical-align: top;\n",
       "    }\n",
       "\n",
       "    .dataframe thead th {\n",
       "        text-align: right;\n",
       "    }\n",
       "</style>\n",
       "<table border=\"1\" class=\"dataframe\">\n",
       "  <thead>\n",
       "    <tr style=\"text-align: right;\">\n",
       "      <th></th>\n",
       "      <th>_id</th>\n",
       "      <th>rater</th>\n",
       "      <th>alignment</th>\n",
       "      <th>quality</th>\n",
       "      <th>consistency</th>\n",
       "      <th>overall</th>\n",
       "    </tr>\n",
       "  </thead>\n",
       "  <tbody>\n",
       "    <tr>\n",
       "      <th>1</th>\n",
       "      <td>677d856e8640497613a5ea32</td>\n",
       "      <td>renz</td>\n",
       "      <td>1</td>\n",
       "      <td>10</td>\n",
       "      <td>10</td>\n",
       "      <td>1</td>\n",
       "    </tr>\n",
       "    <tr>\n",
       "      <th>2</th>\n",
       "      <td>677d856e8640497613a5ea32</td>\n",
       "      <td>ej</td>\n",
       "      <td>1</td>\n",
       "      <td>10</td>\n",
       "      <td>10</td>\n",
       "      <td>2</td>\n",
       "    </tr>\n",
       "    <tr>\n",
       "      <th>3</th>\n",
       "      <td>677d856e8640497613a5ea32</td>\n",
       "      <td>basil</td>\n",
       "      <td>0</td>\n",
       "      <td>10</td>\n",
       "      <td>10</td>\n",
       "      <td>0</td>\n",
       "    </tr>\n",
       "    <tr>\n",
       "      <th>5</th>\n",
       "      <td>677d856e8640497613a5ea35</td>\n",
       "      <td>ej</td>\n",
       "      <td>8</td>\n",
       "      <td>8</td>\n",
       "      <td>9</td>\n",
       "      <td>8</td>\n",
       "    </tr>\n",
       "    <tr>\n",
       "      <th>6</th>\n",
       "      <td>677d856e8640497613a5ea35</td>\n",
       "      <td>basil</td>\n",
       "      <td>10</td>\n",
       "      <td>7</td>\n",
       "      <td>8</td>\n",
       "      <td>8</td>\n",
       "    </tr>\n",
       "  </tbody>\n",
       "</table>\n",
       "</div>"
      ],
      "text/plain": [
       "                        _id  rater  alignment  quality  consistency  overall\n",
       "1  677d856e8640497613a5ea32   renz          1       10           10        1\n",
       "2  677d856e8640497613a5ea32     ej          1       10           10        2\n",
       "3  677d856e8640497613a5ea32  basil          0       10           10        0\n",
       "5  677d856e8640497613a5ea35     ej          8        8            9        8\n",
       "6  677d856e8640497613a5ea35  basil         10        7            8        8"
      ]
     },
     "execution_count": 6,
     "metadata": {},
     "output_type": "execute_result"
    }
   ],
   "source": [
    "raters = [\"renz\", \"ej\", \"basil\"]\n",
    "df = filter_complete_ratings(df, raters)\n",
    "df.head()"
   ]
  },
  {
   "cell_type": "code",
   "execution_count": 7,
   "id": "9ee7294f-5ade-402e-bf91-8d0e22c4a57d",
   "metadata": {},
   "outputs": [],
   "source": [
    "# given a group of raters, get the amount of data points labeled by everyone\n",
    "def get_annotation_sum(group):\n",
    "    common_ids = (\n",
    "        df[df[\"rater\"].isin(group)]\n",
    "        .groupby(\"_id\")[\"rater\"]\n",
    "        .unique()\n",
    "        .apply(lambda x: set(x) == group)\n",
    "    )\n",
    "\n",
    "    num_common_ids = common_ids.sum()\n",
    "    return num_common_ids"
   ]
  },
  {
   "cell_type": "code",
   "execution_count": 8,
   "id": "8413e005-db48-4bad-946e-84664400dc2d",
   "metadata": {},
   "outputs": [
    {
     "name": "stdout",
     "output_type": "stream",
     "text": [
      "3 annotators: 474\n"
     ]
    }
   ],
   "source": [
    "group_5 = {\"basil\", \"renz\", \"ej\", \"Thomas\", \"sona\"}\n",
    "group_4 = {\"basil\", \"renz\", \"ej\", \"Thomas\"}\n",
    "group_3 = {\"basil\", \"renz\", \"ej\"}\n",
    "\n",
    "# print(f\"5 annotators: {get_annotation_sum(group_5)}\")\n",
    "# print(f\"4 annotators: {get_annotation_sum(group_4)}\")\n",
    "print(f\"3 annotators: {get_annotation_sum(group_3)}\")"
   ]
  },
  {
   "cell_type": "markdown",
   "id": "9a357644-befe-4e9a-b20a-fcfef714f291",
   "metadata": {},
   "source": [
    "## Descriptive Statistics\n",
    "- Central Tendency & Spread: mean, median, mode, sd/var, IQR scores for each aspect\n",
    "- Visualizations: boxplots / histogram"
   ]
  },
  {
   "cell_type": "code",
   "execution_count": 9,
   "id": "72cd71cd-6833-4c67-b8d9-bf273e404ae9",
   "metadata": {},
   "outputs": [],
   "source": [
    "aspects = [\"alignment\", \"quality\", \"consistency\", \"overall\"]"
   ]
  },
  {
   "cell_type": "code",
   "execution_count": 10,
   "id": "a280e1d9-cb37-4f0f-a900-6efabfa68c25",
   "metadata": {},
   "outputs": [],
   "source": [
    "def get_stats(df):\n",
    "    stats = {}\n",
    "\n",
    "    for aspect in aspects:\n",
    "        mean_val = df[aspect].mean()\n",
    "        median_val = df[aspect].median()\n",
    "        mode_result = mode(df[aspect], nan_policy=\"omit\")\n",
    "        mode_val = (\n",
    "            np.atleast_1d(mode_result.mode)[0] if mode_result.count.size > 0 else np.nan\n",
    "        )\n",
    "        std_dev = df[aspect].std()\n",
    "        iqr_val = df[aspect].quantile(0.75) - df[aspect].quantile(0.25)\n",
    "\n",
    "        stats[aspect] = {\n",
    "            \"Mean\": mean_val,\n",
    "            \"Median\": median_val,\n",
    "            \"Mode\": mode_val,\n",
    "            \"Standard Deviation\": std_dev,\n",
    "            \"IQR\": iqr_val,\n",
    "        }\n",
    "\n",
    "    print(\"Ratings per aspect\")\n",
    "    for aspect, values in stats.items():\n",
    "        print(f\"\\n{aspect}\")\n",
    "        for key, val in values.items():\n",
    "            print(f\"{key}: {val:.3f}\")"
   ]
  },
  {
   "cell_type": "code",
   "execution_count": 11,
   "id": "65b94112-77a0-4866-9e0a-e393a8797392",
   "metadata": {},
   "outputs": [
    {
     "name": "stdout",
     "output_type": "stream",
     "text": [
      "Ratings per aspect\n",
      "\n",
      "alignment\n",
      "Mean: 8.160\n",
      "Median: 10.000\n",
      "Mode: 10.000\n",
      "Standard Deviation: 3.093\n",
      "IQR: 2.000\n",
      "\n",
      "quality\n",
      "Mean: 7.897\n",
      "Median: 9.000\n",
      "Mode: 10.000\n",
      "Standard Deviation: 2.546\n",
      "IQR: 3.000\n",
      "\n",
      "consistency\n",
      "Mean: 8.541\n",
      "Median: 10.000\n",
      "Mode: 10.000\n",
      "Standard Deviation: 2.295\n",
      "IQR: 2.000\n",
      "\n",
      "overall\n",
      "Mean: 7.419\n",
      "Median: 9.000\n",
      "Mode: 10.000\n",
      "Standard Deviation: 2.935\n",
      "IQR: 4.000\n"
     ]
    }
   ],
   "source": [
    "get_stats(df)  # 3 rater"
   ]
  },
  {
   "cell_type": "markdown",
   "id": "3854c77f-ff70-4741-becf-35981f5406f4",
   "metadata": {},
   "source": [
    "Boxplot of all ratings summed up (not averaged!)."
   ]
  },
  {
   "cell_type": "code",
   "execution_count": 12,
   "id": "ab69455f-82ef-4b10-bcfd-de9b7a5c4e27",
   "metadata": {},
   "outputs": [
    {
     "name": "stderr",
     "output_type": "stream",
     "text": [
      "/opt/conda/lib/python3.9/site-packages/seaborn/categorical.py:82: FutureWarning: iteritems is deprecated and will be removed in a future version. Use .items instead.\n",
      "  plot_data = [np.asarray(s, float) for k, s in iter_data]\n"
     ]
    },
    {
     "data": {
      "image/png": "[encoded data removed]",
      "text/plain": [
       "<Figure size 720x432 with 1 Axes>"
      ]
     },
     "metadata": {
      "needs_background": "light"
     },
     "output_type": "display_data"
    }
   ],
   "source": [
    "plt.figure(figsize=(10, 6))\n",
    "sns.boxplot(data=df[aspects])\n",
    "plt.xlabel(\"Aspects\")\n",
    "plt.ylabel(\"Rating (1-10)\")\n",
    "plt.title(\"Ratings for Different Aspects\")\n",
    "plt.show()"
   ]
  },
  {
   "cell_type": "code",
   "execution_count": 13,
   "id": "5369556a-dd1f-4c8b-91ef-6ee569410f92",
   "metadata": {},
   "outputs": [
    {
     "data": {
      "image/png": "[encoded data removed]",
      "text/plain": [
       "<Figure size 1080x576 with 8 Axes>"
      ]
     },
     "metadata": {
      "needs_background": "light"
     },
     "output_type": "display_data"
    }
   ],
   "source": [
    "fig, axes = plt.subplots(2, len(aspects), figsize=(15, 8), sharey=False)\n",
    "\n",
    "for i, aspect in enumerate(aspects):\n",
    "    sns.boxplot(y=df[aspect], ax=axes[0, i])\n",
    "    axes[0, i].set_title(f\"Boxplot: {aspect}\")\n",
    "    axes[0, i].set_xlabel(\"Value\")\n",
    "    axes[0, i].set_ylabel(\"Rating\")\n",
    "\n",
    "for i, aspect in enumerate(aspects):\n",
    "    sns.histplot(df[aspect], bins=10, kde=True, ax=axes[1, i])\n",
    "    axes[1, i].set_title(f\"Histogram: {aspect}\")\n",
    "    axes[1, i].set_xlabel(\"Human Rating\")\n",
    "    axes[1, i].set_ylabel(\"Frequency\")\n",
    "\n",
    "plt.tight_layout()\n",
    "plt.show()"
   ]
  },
  {
   "cell_type": "markdown",
   "id": "3bdc904f-f5a5-41a2-a20d-b65769d78dac",
   "metadata": {},
   "source": [
    "## Rater Agreement\n",
    "\n",
    "- ICC evaluates the consistency of ratings on a continuous scale (e.g., ratings of quality, alignment, etc.) -> how much raters agree on the magnitude of their ratings\n",
    "- Kendall's Tau measures how similarly two raters rank the items (i.e., their order of preferences or evaluations) -> regardless of the actual numerical values they assign\n",
    "- (Krippendorff’s Alpha: like ICC, but more robust against NaN)"
   ]
  },
  {
   "cell_type": "markdown",
   "id": "9d7693d4-0d3a-464d-ba5d-d40c23370077",
   "metadata": {},
   "source": [
    "#### ICC Model Choice: 2-way random effects model ICC(2,1)\n",
    "\n",
    "Why? \n",
    "- Fixed raters and fixed samples\n",
    "- Both are not randomly selected (i.e., they are a fixed set you want to generalize to)\n",
    "- interested in the consistency of ratings across raters for each sample\n",
    "\n",
    "The (2,1) part refers to:\n",
    "- 2: \"Two-way\" refers to having both raters and samples as the sources of variability.\n",
    "- 1: \"Single measure\" indicates interest in the consistency of ratings from individual raters (not averaging them across raters)\n"
   ]
  },
  {
   "cell_type": "code",
   "execution_count": 83,
   "id": "28b8977a-c9ba-4837-91f0-815ccde0c619",
   "metadata": {},
   "outputs": [],
   "source": [
    "def icc_for_aspect(aspect, df):\n",
    "    icc_results = pg.intraclass_corr(\n",
    "        data=df, targets=\"_id\", raters=\"rater\", ratings=aspect, nan_policy=\"omit\"\n",
    "    )\n",
    "    icc_value = icc_results[icc_results[\"Type\"] == \"ICC2\"][\"ICC\"].values[0]\n",
    "    print(f\"ICC (2-way random effects) for {aspect}: {icc_value:.3f}\")"
   ]
  },
  {
   "cell_type": "code",
   "execution_count": 14,
   "id": "c4c88536-a291-44de-9dc6-0485626caa5e",
   "metadata": {},
   "outputs": [
    {
     "name": "stdout",
     "output_type": "stream",
     "text": [
      "ICC (2-way random effects) for alignment: 0.725\n",
      "ICC (2-way random effects) for quality: 0.509\n",
      "ICC (2-way random effects) for consistency: 0.380\n",
      "ICC (2-way random effects) for overall: 0.656\n"
     ]
    }
   ],
   "source": [
    "# for basil, ej, renz\n",
    "icc_for_aspect(\"alignment\", df)\n",
    "icc_for_aspect(\"quality\", df)\n",
    "icc_for_aspect(\"consistency\", df)\n",
    "icc_for_aspect(\"overall\", df)"
   ]
  },
  {
   "cell_type": "code",
   "execution_count": 132,
   "id": "4d7a7a66-a228-4e21-ba90-fbc2aa5e5b3a",
   "metadata": {},
   "outputs": [
    {
     "name": "stdout",
     "output_type": "stream",
     "text": [
      "ICC (2-way random effects) for alignment: 0.817\n",
      "ICC (2-way random effects) for quality: 0.615\n",
      "ICC (2-way random effects) for consistency: 0.458\n",
      "ICC (2-way random effects) for overall: 0.773\n"
     ]
    }
   ],
   "source": [
    "# for basil, ej, renz, pia\n",
    "icc_for_aspect(\"alignment\", df)\n",
    "icc_for_aspect(\"quality\", df)\n",
    "icc_for_aspect(\"consistency\", df)\n",
    "icc_for_aspect(\"overall\", df)"
   ]
  },
  {
   "cell_type": "markdown",
   "id": "aeb575bc-f888-44b0-9e6d-7479cd3b9ca0",
   "metadata": {},
   "source": [
    "#### Kendall's Tau"
   ]
  },
  {
   "cell_type": "code",
   "execution_count": 94,
   "id": "3ac55e9f-5d0f-4478-a5b8-62abb27041b1",
   "metadata": {},
   "outputs": [],
   "source": [
    "df_all[\"_id\"] = df_all.groupby([\"id\", \"turn\"])[\"_id\"].transform(\n",
    "    lambda x: x.ffill().bfill()\n",
    ")"
   ]
  },
  {
   "cell_type": "code",
   "execution_count": 95,
   "id": "a34815fa-7278-4985-b681-0b874d9f4d6c",
   "metadata": {},
   "outputs": [
    {
     "name": "stdout",
     "output_type": "stream",
     "text": [
      "Kendall's Tau for alignment:\n",
      "rater     Thomas     basil        ej       pia      renz      sona\n",
      "rater                                                             \n",
      "Thomas  1.000000  0.535408  0.734688  0.722843  0.604188  0.620450\n",
      "basil   0.535408  1.000000  0.589565  0.485390  0.514851  0.546718\n",
      "ej      0.734688  0.589565  1.000000  0.701569  0.725962  0.698690\n",
      "pia     0.722843  0.485390  0.701569  1.000000  0.642776  0.581909\n",
      "renz    0.604188  0.514851  0.725962  0.642776  1.000000  0.596264\n",
      "sona    0.620450  0.546718  0.698690  0.581909  0.596264  1.000000\n",
      "\n",
      "Kendall's Tau for quality:\n",
      "rater     Thomas     basil        ej       pia      renz      sona\n",
      "rater                                                             \n",
      "Thomas  1.000000  0.345444  0.517771  0.312782  0.171765  0.654640\n",
      "basil   0.345444  1.000000  0.685130  0.154544  0.411387  0.482487\n",
      "ej      0.517771  0.685130  1.000000  0.325012  0.467323  0.591539\n",
      "pia     0.312782  0.154544  0.325012  1.000000  0.097782  0.383479\n",
      "renz    0.171765  0.411387  0.467323  0.097782  1.000000  0.274506\n",
      "sona    0.654640  0.482487  0.591539  0.383479  0.274506  1.000000\n",
      "\n",
      "Kendall's Tau for consistency:\n",
      "rater     Thomas     basil        ej       pia      renz      sona\n",
      "rater                                                             \n",
      "Thomas  1.000000  0.422375  0.323812  0.415948  0.208420  0.604717\n",
      "basil   0.422375  1.000000  0.343206  0.284256  0.187932  0.496105\n",
      "ej      0.323812  0.343206  1.000000  0.295787  0.445240  0.565992\n",
      "pia     0.415948  0.284256  0.295787  1.000000  0.127488  0.446982\n",
      "renz    0.208420  0.187932  0.445240  0.127488  1.000000  0.321698\n",
      "sona    0.604717  0.496105  0.565992  0.446982  0.321698  1.000000\n",
      "\n",
      "Kendall's Tau for overall:\n",
      "rater     Thomas     basil        ej       pia      renz      sona\n",
      "rater                                                             \n",
      "Thomas  1.000000  0.434121  0.655936  0.680841  0.416694  0.699026\n",
      "basil   0.434121  1.000000  0.528095  0.397195  0.569117  0.426233\n",
      "ej      0.655936  0.528095  1.000000  0.570093  0.646947  0.612901\n",
      "pia     0.680841  0.397195  0.570093  1.000000  0.445207  0.611336\n",
      "renz    0.416694  0.569117  0.646947  0.445207  1.000000  0.445930\n",
      "sona    0.699026  0.426233  0.612901  0.611336  0.445930  1.000000\n",
      "\n"
     ]
    }
   ],
   "source": [
    "kendall_tau_results = {}\n",
    "\n",
    "for aspect in aspects:\n",
    "    df_pivot = df_all.pivot(index=\"_id\", columns=\"rater\", values=aspect)\n",
    "    kendall_tau_matrix = df_pivot.corr(method=\"kendall\")\n",
    "    kendall_tau_results[aspect] = kendall_tau_matrix\n",
    "\n",
    "for aspect, tau_matrix in kendall_tau_results.items():\n",
    "    print(f\"Kendall's Tau for {aspect}:\\n{tau_matrix}\\n\")"
   ]
  },
  {
   "cell_type": "markdown",
   "id": "dd0b80d0-b4bf-44cd-98ef-6c8b6f53d510",
   "metadata": {},
   "source": [
    "## Aggregation\n",
    "Since there are only 3 annotators, computing the mean as the representative value is the most sensible approach (as it is very unlikely to have a median or majority for only 3 annotations)."
   ]
  },
  {
   "cell_type": "code",
   "execution_count": 14,
   "id": "c468a481-a404-475a-86e7-93058d0f746b",
   "metadata": {},
   "outputs": [],
   "source": [
    "def aggregate(df, raters):\n",
    "    df_aggregated = df[df[\"rater\"].isin(raters)]\n",
    "    df_aggregated = (\n",
    "        df_aggregated.groupby(\"_id\")\n",
    "        .agg(\n",
    "            {\n",
    "                \"alignment\": \"mean\",\n",
    "                \"quality\": \"mean\",\n",
    "                \"consistency\": \"mean\",\n",
    "                \"overall\": \"mean\",\n",
    "                #'_id': 'first',\n",
    "                #'turn': 'first'\n",
    "            }\n",
    "        )\n",
    "        .reset_index()\n",
    "    )\n",
    "\n",
    "    return df_aggregated.round(3)"
   ]
  },
  {
   "cell_type": "code",
   "execution_count": 16,
   "id": "76dd25d8-624e-45c9-a774-4eb29f2aa131",
   "metadata": {},
   "outputs": [
    {
     "data": {
      "text/html": [
       "<div>\n",
       "<style scoped>\n",
       "    .dataframe tbody tr th:only-of-type {\n",
       "        vertical-align: middle;\n",
       "    }\n",
       "\n",
       "    .dataframe tbody tr th {\n",
       "        vertical-align: top;\n",
       "    }\n",
       "\n",
       "    .dataframe thead th {\n",
       "        text-align: right;\n",
       "    }\n",
       "</style>\n",
       "<table border=\"1\" class=\"dataframe\">\n",
       "  <thead>\n",
       "    <tr style=\"text-align: right;\">\n",
       "      <th></th>\n",
       "      <th>_id</th>\n",
       "      <th>alignment</th>\n",
       "      <th>quality</th>\n",
       "      <th>consistency</th>\n",
       "      <th>overall</th>\n",
       "    </tr>\n",
       "  </thead>\n",
       "  <tbody>\n",
       "    <tr>\n",
       "      <th>0</th>\n",
       "      <td>677d856e8640497613a5ea07</td>\n",
       "      <td>7.000</td>\n",
       "      <td>8.667</td>\n",
       "      <td>9.000</td>\n",
       "      <td>7.333</td>\n",
       "    </tr>\n",
       "    <tr>\n",
       "      <th>1</th>\n",
       "      <td>677d856e8640497613a5ea08</td>\n",
       "      <td>10.000</td>\n",
       "      <td>9.333</td>\n",
       "      <td>9.667</td>\n",
       "      <td>9.667</td>\n",
       "    </tr>\n",
       "    <tr>\n",
       "      <th>2</th>\n",
       "      <td>677d856e8640497613a5ea09</td>\n",
       "      <td>6.667</td>\n",
       "      <td>8.000</td>\n",
       "      <td>8.333</td>\n",
       "      <td>7.000</td>\n",
       "    </tr>\n",
       "    <tr>\n",
       "      <th>3</th>\n",
       "      <td>677d856e8640497613a5ea0a</td>\n",
       "      <td>7.000</td>\n",
       "      <td>4.333</td>\n",
       "      <td>6.333</td>\n",
       "      <td>4.667</td>\n",
       "    </tr>\n",
       "    <tr>\n",
       "      <th>4</th>\n",
       "      <td>677d856e8640497613a5ea0b</td>\n",
       "      <td>10.000</td>\n",
       "      <td>6.333</td>\n",
       "      <td>7.000</td>\n",
       "      <td>7.333</td>\n",
       "    </tr>\n",
       "  </tbody>\n",
       "</table>\n",
       "</div>"
      ],
      "text/plain": [
       "                        _id  alignment  quality  consistency  overall\n",
       "0  677d856e8640497613a5ea07      7.000    8.667        9.000    7.333\n",
       "1  677d856e8640497613a5ea08     10.000    9.333        9.667    9.667\n",
       "2  677d856e8640497613a5ea09      6.667    8.000        8.333    7.000\n",
       "3  677d856e8640497613a5ea0a      7.000    4.333        6.333    4.667\n",
       "4  677d856e8640497613a5ea0b     10.000    6.333        7.000    7.333"
      ]
     },
     "execution_count": 16,
     "metadata": {},
     "output_type": "execute_result"
    }
   ],
   "source": [
    "df_all_aggregated = aggregate(df, {\"renz\", \"ej\", \"basil\"})\n",
    "df_all_aggregated.head()\n",
    "# df_aggregated.to_csv(\"annotations_mean_3.csv\", index=False)"
   ]
  },
  {
   "cell_type": "code",
   "execution_count": 12,
   "id": "857e62a0-0e9b-4fc4-9570-4e3f02e08fdb",
   "metadata": {},
   "outputs": [],
   "source": [
    "# df_aggregated = aggregate(df_4, {\"renz\", \"ej\", \"basil\", \"pia\"})\n",
    "# df_aggregated.to_csv(\"annotations_mean_4_middle.csv\", index=False)"
   ]
  },
  {
   "cell_type": "code",
   "execution_count": 71,
   "id": "283106a6-a0fc-42ab-acd3-67ba027dfd37",
   "metadata": {},
   "outputs": [
    {
     "data": {
      "image/png": "[encoded data removed]",
      "text/plain": [
       "<Figure size 1080x576 with 8 Axes>"
      ]
     },
     "metadata": {
      "needs_background": "light"
     },
     "output_type": "display_data"
    }
   ],
   "source": [
    "# same plot as above, but now with average values instead of summing all,\n",
    "# and incorporating colors\n",
    "\n",
    "colors = sns.color_palette()\n",
    "fig, axes = plt.subplots(2, len(aspects), figsize=(15, 8), sharey=False)\n",
    "\n",
    "rating_limits = (-0.5, 10.5)\n",
    "frequency_limits = (0, 300)\n",
    "\n",
    "for i, aspect in enumerate(aspects):\n",
    "    sns.boxplot(y=df_aggregated[aspect], ax=axes[0, i], color=colors[i])\n",
    "    axes[0, i].set_title(f\"{aspect}\", fontsize=14)\n",
    "    (\n",
    "        axes[0, i].set_ylabel(\"Rating\", fontsize=16)\n",
    "        if i == 0\n",
    "        else axes[0, i].set_ylabel(\"\")\n",
    "    )\n",
    "    axes[0, i].tick_params(axis=\"x\", which=\"both\", length=0)\n",
    "    axes[0, i].set_ylim(rating_limits)\n",
    "    axes[0, i].tick_params(axis=\"y\", labelsize=12)\n",
    "\n",
    "    axes[0, i].set_xticks([])\n",
    "\n",
    "for i, aspect in enumerate(aspects):\n",
    "    sns.histplot(\n",
    "        df_aggregated[aspect], bins=10, kde=True, ax=axes[1, i], color=colors[i]\n",
    "    )\n",
    "    axes[1, i].set_xlabel(\"Human Rating\", fontsize=14)\n",
    "    (\n",
    "        axes[1, i].set_ylabel(\"Frequency\", fontsize=16)\n",
    "        if i == 0\n",
    "        else axes[1, i].set_ylabel(\"\")\n",
    "    )\n",
    "    axes[1, i].set_xlim(rating_limits)\n",
    "    axes[1, i].set_ylim(frequency_limits)\n",
    "    axes[1, i].tick_params(axis=\"x\", labelsize=12)\n",
    "    axes[1, i].tick_params(axis=\"y\", labelsize=12)\n",
    "\n",
    "plt.tight_layout()\n",
    "# plt.savefig(\"plots/mean_annotation_values.png\", dpi=300, bbox_inches='tight')\n",
    "plt.show()"
   ]
  },
  {
   "cell_type": "markdown",
   "id": "e29b1cfe-9795-44d9-976b-e99b693f5425",
   "metadata": {},
   "source": [
    "### Qualitative Evaluation\n",
    "\n",
    "For a qualitative examination of the datapoints, the data points with the highest discrepancies across raters are displayed."
   ]
  },
  {
   "cell_type": "code",
   "execution_count": 19,
   "id": "fb2a95f3-fe07-4479-b443-581e00a08427",
   "metadata": {},
   "outputs": [
    {
     "name": "stdout",
     "output_type": "stream",
     "text": [
      "Differences for alignment:\n",
      "rater                       _id  max_diff\n",
      "24     677d856e8640497613a5ea1f        10\n",
      "272    677d856e8640497613a5eb2e         9\n",
      "436    677d856e8640497613a5ebee         9\n",
      "202    677d856e8640497613a5eae1         9\n",
      "66     677d856e8640497613a5ea4c         9 \n",
      "\n",
      "Differences for quality:\n",
      "rater                       _id  max_diff\n",
      "388    677d856e8640497613a5ebb3        10\n",
      "355    677d856e8640497613a5eb8a        10\n",
      "437    677d856e8640497613a5ebef        10\n",
      "156    677d856e8640497613a5eaae         9\n",
      "255    677d856e8640497613a5eb1b         9 \n",
      "\n",
      "Differences for consistency:\n",
      "rater                       _id  max_diff\n",
      "388    677d856e8640497613a5ebb3        10\n",
      "355    677d856e8640497613a5eb8a        10\n",
      "52     677d856e8640497613a5ea3d         9\n",
      "193    677d856e8640497613a5ead4         9\n",
      "78     677d856e8640497613a5ea5a         9 \n",
      "\n",
      "Differences for overall:\n",
      "rater                       _id  max_diff\n",
      "109    677d856e8640497613a5ea7e         9\n",
      "272    677d856e8640497613a5eb2e         9\n",
      "24     677d856e8640497613a5ea1f         9\n",
      "313    677d856e8640497613a5eb5a         9\n",
      "303    677d856e8640497613a5eb4f         8 \n",
      "\n"
     ]
    }
   ],
   "source": [
    "# compute differences among raters\n",
    "def get_differences(df, aspect):\n",
    "    pivot_df = df.pivot(index=[\"_id\"], columns=\"rater\", values=aspect)\n",
    "    # pivot_df = df.pivot(index=[\"id\", \"turn\"], columns=\"rater\", values=aspect)\n",
    "    # compute difference for each data point\n",
    "    pivot_df[\"max_diff\"] = pivot_df.max(axis=1) - pivot_df.min(axis=1)\n",
    "    return pivot_df[[\"max_diff\"]].reset_index()\n",
    "\n",
    "\n",
    "# compute biggest differences\n",
    "alignment_diff = get_differences(df, \"alignment\")\n",
    "quality_diff = get_differences(df, \"quality\")\n",
    "consistency_diff = get_differences(df, \"consistency\")\n",
    "overall_diff = get_differences(df, \"overall\")\n",
    "\n",
    "# sort\n",
    "alignment_diff_sorted = alignment_diff.sort_values(by=\"max_diff\", ascending=False)\n",
    "quality_diff_sorted = quality_diff.sort_values(by=\"max_diff\", ascending=False)\n",
    "consistency_diff_sorted = consistency_diff.sort_values(by=\"max_diff\", ascending=False)\n",
    "overall_diff_sorted = overall_diff.sort_values(by=\"max_diff\", ascending=False)\n",
    "\n",
    "print(\"Differences for alignment:\")\n",
    "print(alignment_diff_sorted.head(), \"\\n\")\n",
    "\n",
    "print(\"Differences for quality:\")\n",
    "print(quality_diff_sorted.head(), \"\\n\")\n",
    "\n",
    "print(\"Differences for consistency:\")\n",
    "print(consistency_diff_sorted.head(), \"\\n\")\n",
    "\n",
    "print(\"Differences for overall:\")\n",
    "print(overall_diff_sorted.head(), \"\\n\")"
   ]
  },
  {
   "cell_type": "code",
   "execution_count": 17,
   "id": "204ccf33-9bde-49cb-ab23-2a0f8909fe89",
   "metadata": {},
   "outputs": [
    {
     "data": {
      "text/html": [
       "<div>\n",
       "<style scoped>\n",
       "    .dataframe tbody tr th:only-of-type {\n",
       "        vertical-align: middle;\n",
       "    }\n",
       "\n",
       "    .dataframe tbody tr th {\n",
       "        vertical-align: top;\n",
       "    }\n",
       "\n",
       "    .dataframe thead th {\n",
       "        text-align: right;\n",
       "    }\n",
       "</style>\n",
       "<table border=\"1\" class=\"dataframe\">\n",
       "  <thead>\n",
       "    <tr style=\"text-align: right;\">\n",
       "      <th></th>\n",
       "      <th>_id</th>\n",
       "      <th>id</th>\n",
       "      <th>turn</th>\n",
       "      <th>rater</th>\n",
       "      <th>alignment</th>\n",
       "      <th>quality</th>\n",
       "      <th>consistency</th>\n",
       "      <th>overall</th>\n",
       "    </tr>\n",
       "  </thead>\n",
       "  <tbody>\n",
       "    <tr>\n",
       "      <th>816</th>\n",
       "      <td>677d856e8640497613a5eb2e</td>\n",
       "      <td>493074</td>\n",
       "      <td>2</td>\n",
       "      <td>renz</td>\n",
       "      <td>1</td>\n",
       "      <td>10</td>\n",
       "      <td>10</td>\n",
       "      <td>1</td>\n",
       "    </tr>\n",
       "    <tr>\n",
       "      <th>817</th>\n",
       "      <td>677d856e8640497613a5eb2e</td>\n",
       "      <td>493074</td>\n",
       "      <td>2</td>\n",
       "      <td>ej</td>\n",
       "      <td>10</td>\n",
       "      <td>10</td>\n",
       "      <td>10</td>\n",
       "      <td>10</td>\n",
       "    </tr>\n",
       "    <tr>\n",
       "      <th>818</th>\n",
       "      <td>677d856e8640497613a5eb2e</td>\n",
       "      <td>493074</td>\n",
       "      <td>2</td>\n",
       "      <td>basil</td>\n",
       "      <td>10</td>\n",
       "      <td>8</td>\n",
       "      <td>10</td>\n",
       "      <td>9</td>\n",
       "    </tr>\n",
       "  </tbody>\n",
       "</table>\n",
       "</div>"
      ],
      "text/plain": [
       "                          _id      id  turn  rater  alignment  quality  \\\n",
       "816  677d856e8640497613a5eb2e  493074     2   renz          1       10   \n",
       "817  677d856e8640497613a5eb2e  493074     2     ej         10       10   \n",
       "818  677d856e8640497613a5eb2e  493074     2  basil         10        8   \n",
       "\n",
       "     consistency  overall  \n",
       "816           10        1  \n",
       "817           10       10  \n",
       "818           10        9  "
      ]
     },
     "execution_count": 17,
     "metadata": {},
     "output_type": "execute_result"
    }
   ],
   "source": [
    "# check exact ratings\n",
    "df[(df[\"id\"] == 493074) & (df[\"turn\"] == 2)]"
   ]
  }
 ],
 "metadata": {
  "kernelspec": {
   "display_name": "annotation",
   "language": "python",
   "name": ".env"
  },
  "language_info": {
   "codemirror_mode": {
    "name": "ipython",
    "version": 3
   },
   "file_extension": ".py",
   "mimetype": "text/x-python",
   "name": "python",
   "nbconvert_exporter": "python",
   "pygments_lexer": "ipython3",
   "version": "3.9.13"
  }
 },
 "nbformat": 4,
 "nbformat_minor": 5
}
