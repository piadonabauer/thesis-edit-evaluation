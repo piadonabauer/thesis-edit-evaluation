{
 "cells": [
  {
   "cell_type": "markdown",
   "metadata": {},
   "source": [
    "# Create MongoDB Structure"
   ]
  },
  {
   "cell_type": "code",
   "execution_count": 22,
   "metadata": {
    "ExecuteTime": {
     "end_time": "2025-01-07T19:49:05.706326Z",
     "start_time": "2025-01-07T19:49:05.697814Z"
    },
    "collapsed": false,
    "jupyter": {
     "outputs_hidden": false
    }
   },
   "outputs": [],
   "source": [
    "import json\n",
    "import re"
   ]
  },
  {
   "cell_type": "markdown",
   "metadata": {},
   "source": [
    "Images of MagicBrush were stored in a GitHub repository to facilitate data retrieval."
   ]
  },
  {
   "cell_type": "code",
   "execution_count": 23,
   "metadata": {
    "ExecuteTime": {
     "end_time": "2025-01-07T19:49:06.010163Z",
     "start_time": "2025-01-07T19:49:06.006475Z"
    },
    "collapsed": false,
    "jupyter": {
     "outputs_hidden": false
    }
   },
   "outputs": [],
   "source": [
    "base_url = \"https://raw.githubusercontent.com/piadonabauer/magicbrush-dev/main/images\""
   ]
  },
  {
   "cell_type": "code",
   "execution_count": 24,
   "metadata": {
    "ExecuteTime": {
     "end_time": "2025-01-07T19:49:06.347366Z",
     "start_time": "2025-01-07T19:49:06.324433Z"
    },
    "tags": []
   },
   "outputs": [
    {
     "name": "stdout",
     "output_type": "stream",
     "text": [
      "Data saved at mongo_init.json\n"
     ]
    }
   ],
   "source": [
    "output_data = []\n",
    "\n",
    "def extract_turn(output_filename):\n",
    "    match = re.search(r\"output(\\d+)\", output_filename)\n",
    "    return int(match.group(1)) if match else None\n",
    "\n",
    "with open(\"edit_sessions.json\", \"r\") as file:\n",
    "    edit_sessions = json.load(file)\n",
    "\n",
    "for id, sessions in edit_sessions.items():\n",
    "    for session in sessions:\n",
    "        input_link = f\"{base_url}/{id}/{session['input']}\"\n",
    "        output_link = f\"{base_url}/{id}/{session['output']}\"\n",
    "\n",
    "        turn = extract_turn(session['output'])\n",
    "        if turn is None:\n",
    "            print(f\"No turn value found in {session['output']} - skip.\")\n",
    "            continue\n",
    "\n",
    "        document = {\n",
    "            \"meta_information\": {\n",
    "                \"id\": int(id),\n",
    "                \"turn\": int(turn),\n",
    "                \"input_img_link\": input_link,\n",
    "                \"output_img_link\": output_link,\n",
    "                \"instruction\": session[\"instruction\"]\n",
    "            },\n",
    "            \"ratings\": []\n",
    "        }\n",
    "        output_data.append(document)\n",
    "\n",
    "output_json_path = \"mongo_init.json\"\n",
    "with open(output_json_path, \"w\") as outfile:\n",
    "    json.dump(output_data, outfile, indent=4)\n",
    "\n",
    "print(f\"Data saved at {output_json_path}\")"
   ]
  },
  {
   "cell_type": "markdown",
   "metadata": {},
   "source": [
    "### Upload structure to MongoDB"
   ]
  },
  {
   "cell_type": "code",
   "execution_count": 25,
   "metadata": {
    "ExecuteTime": {
     "end_time": "2025-01-07T19:49:07.701178Z",
     "start_time": "2025-01-07T19:49:07.700478Z"
    },
    "collapsed": false,
    "jupyter": {
     "outputs_hidden": false
    }
   },
   "outputs": [],
   "source": [
    "from pymongo import MongoClient\n",
    "from dotenv import load_dotenv\n",
    "import os"
   ]
  },
  {
   "cell_type": "code",
   "execution_count": 26,
   "metadata": {
    "ExecuteTime": {
     "end_time": "2025-01-07T19:49:07.987410Z",
     "start_time": "2025-01-07T19:49:07.983489Z"
    },
    "collapsed": false,
    "jupyter": {
     "outputs_hidden": false
    }
   },
   "outputs": [
    {
     "name": "stdout",
     "output_type": "stream",
     "text": [
      "4.8.0\n"
     ]
    }
   ],
   "source": [
    "import pymongo\n",
    "print(pymongo.__version__)"
   ]
  },
  {
   "cell_type": "code",
   "execution_count": 29,
   "metadata": {
    "ExecuteTime": {
     "end_time": "2025-01-07T19:50:05.798336Z",
     "start_time": "2025-01-07T19:50:05.794142Z"
    },
    "collapsed": false,
    "jupyter": {
     "outputs_hidden": false
    }
   },
   "outputs": [],
   "source": [
    "#os.environ.pop('MONGO_PASSWORD', None)\n",
    "load_dotenv() # load gitignore\n",
    "\n",
    "mongo_user = os.getenv('MONGO_USER')\n",
    "mongo_password = os.getenv('MONGO_PASSWORD')\n",
    "cluster_url = os.getenv('MONGO_CLUSTER_URL')"
   ]
  },
  {
   "cell_type": "code",
   "execution_count": 30,
   "metadata": {
    "ExecuteTime": {
     "end_time": "2025-01-07T19:50:08.311238Z",
     "start_time": "2025-01-07T19:50:06.147140Z"
    },
    "collapsed": false,
    "jupyter": {
     "outputs_hidden": false
    }
   },
   "outputs": [
    {
     "name": "stdout",
     "output_type": "stream",
     "text": [
      "Data added.\n"
     ]
    }
   ],
   "source": [
    "connection_url = f\"mongodb+srv://{mongo_user}:{mongo_password}@{cluster_url}\"\n",
    "client = MongoClient(connection_url)\n",
    "\n",
    "db = client[\"thesis\"]\n",
    "collection = db[\"labeling\"]\n",
    "\n",
    "with open(output_json_path, \"r\") as infile:\n",
    "    documents = json.load(infile)\n",
    "    collection.insert_many(documents)\n",
    "\n",
    "print(\"Data added.\")"
   ]
  }
 ],
 "metadata": {
  "kernelspec": {
   "display_name": "Python (enviro)",
   "language": "python",
   "name": "enviro"
  },
  "language_info": {
   "codemirror_mode": {
    "name": "ipython",
    "version": 2
   },
   "file_extension": ".py",
   "mimetype": "text/x-python",
   "name": "python",
   "nbconvert_exporter": "python",
   "pygments_lexer": "ipython2",
   "version": "2.7.6"
  }
 },
 "nbformat": 4,
 "nbformat_minor": 4
}
