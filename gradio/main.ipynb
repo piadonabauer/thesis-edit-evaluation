{
 "cells": [
  {
   "cell_type": "markdown",
   "metadata": {},
   "source": [
    "# Gradio Demo\n",
    "\n",
    "Code creates a Gradio demo that runs locally, where user input is saved to a local JSON file. The demo can also be deployed to Hugging Face Spaces, but when deployed, it requires a connected database for storing user inputs."
   ]
  },
  {
   "cell_type": "code",
   "execution_count": 1,
   "metadata": {
    "ExecuteTime": {
     "end_time": "2024-10-02T13:48:24.512789Z",
     "start_time": "2024-10-02T13:48:22.436194Z"
    },
    "id": "UKAZPGg3QcmK"
   },
   "outputs": [],
   "source": [
    "!pip -q install gradio -q\n",
    "!python -m pip install \"pymongo[srv]\"==3.6 -q"
   ]
  },
  {
   "cell_type": "code",
   "execution_count": 1,
   "metadata": {
    "ExecuteTime": {
     "end_time": "2024-11-06T15:52:45.672700Z",
     "start_time": "2024-11-06T15:52:37.896252Z"
    },
    "id": "WpLpu8iPQodd"
   },
   "outputs": [
    {
     "name": "stderr",
     "output_type": "stream",
     "text": [
      "/Users/piadonabauer/PycharmProjects/gradio/enviro/lib/python3.9/site-packages/urllib3/__init__.py:35: NotOpenSSLWarning: urllib3 v2 only supports OpenSSL 1.1.1+, currently the 'ssl' module is compiled with 'LibreSSL 2.8.3'. See: https://github.com/urllib3/urllib3/issues/3020\n",
      "  warnings.warn(\n"
     ]
    }
   ],
   "source": [
    "import numpy as np\n",
    "import pandas as pd\n",
    "import gradio as gr\n",
    "import os\n",
    "from PIL import Image\n",
    "import json\n",
    "import random\n",
    "import re"
   ]
  },
  {
   "cell_type": "code",
   "execution_count": 2,
   "metadata": {
    "ExecuteTime": {
     "end_time": "2024-11-06T15:52:45.677830Z",
     "start_time": "2024-11-06T15:52:45.670523Z"
    },
    "collapsed": false,
    "jupyter": {
     "outputs_hidden": false
    }
   },
   "outputs": [],
   "source": [
    "instruction_beginning = \"\"\"\n",
    "## 🔍 Evaluation of AI Quality\n",
    "\n",
    "\\n**Background**\n",
    "\n",
    "\\nIn this task, you will evaluate the quality of image edits based on a text prompt and a masked area regarding three aspects: **Prompt-Image Alignment**, **Visual Quality** and **Consistency**.\n",
    "Each aspect should be rated on a scale from 1 to 10, where 1 indicates 'very poor' and 10 represents 'excellent'.\n",
    "\n",
    "Please ensure you have read the detailed instructions provided in this [document](https://www.canva.com/design/DAGP0UTTygI/rYkYZtLUipuKbXPbRcj9kQ/edit?utm_content=DAGP0UTTygI&utm_campaign=designshare&utm_medium=link2&utm_source=sharebutton) before starting the labeling process.\n",
    "\n",
    "\\n**Labeling**\n",
    "\n",
    "\\nPlease enter a nickname to avoid repeating triplets. Make sure to remember this nickname for future sessions. If you choose not to enter a nickname, your ratings will not be saved.\n",
    "\"\"\"\n",
    "\n",
    "alignment_info = \"\"\"\n",
    "How well does the edited area align with the text prompt? (e.g. numbers, colors, and objects)\n",
    "\n",
    "\"\"\"\n",
    "\n",
    "quality_info = \"\"\"\n",
    "How realistic and aesthetically pleasing is the edited area? (e.g. color realism and overall aesthetics)\n",
    "\"\"\"\n",
    "\n",
    "consistency_info = \"\"\"\n",
    "How seamlessly does the edit integrate with the rest of the original image? (e.g. consistency in style, lighting, logic, and spatial coherence)\n",
    "\"\"\"\n",
    "\n",
    "overall_info = \"\"\"\n",
    "How do you perceive and like the edit as a whole, how well does it meet your expectations and complements the original image?\n",
    "\"\"\""
   ]
  },
  {
   "cell_type": "markdown",
   "metadata": {},
   "source": [
    "Download dev file: [link from HuggingFace](https://buckeyemailosu-my.sharepoint.com/personal/zhang_13253_buckeyemail_osu_edu/_layouts/15/onedrive.aspx?id=%2Fpersonal%2Fzhang%5F13253%5Fbuckeyemail%5Fosu%5Fedu%2FDocuments%2FDatasets%2FMagicBrush%2FfinalRelease%2Fdev%2Ezip&parent=%2Fpersonal%2Fzhang%5F13253%5Fbuckeyemail%5Fosu%5Fedu%2FDocuments%2FDatasets%2FMagicBrush%2FfinalRelease&ga=1)."
   ]
  },
  {
   "cell_type": "code",
   "execution_count": 1,
   "metadata": {},
   "outputs": [],
   "source": [
    "directory_path = \"./dev/images\""
   ]
  },
  {
   "cell_type": "code",
   "execution_count": 3,
   "metadata": {
    "ExecuteTime": {
     "end_time": "2024-11-06T15:52:45.684871Z",
     "start_time": "2024-11-06T15:52:45.680077Z"
    },
    "id": "5GZK5Tg7QrjL"
   },
   "outputs": [],
   "source": [
    "# load image as array\n",
    "def get_img_array(directory_path, filename):\n",
    "    image_path = os.path.join(directory_path, filename)\n",
    "    image = Image.open(image_path)\n",
    "    image_array = np.array(image)\n",
    "    return image_array\n",
    "\n",
    "# generator to load image triplets with corresponding prompt\n",
    "def image_generator(directory_path):\n",
    "    with open(os.path.join(directory_path, \"edit_sessions.json\"), 'r') as f:\n",
    "        instructions = json.load(f)\n",
    "\n",
    "    # Collect all turns into a list\n",
    "    all_turns = []\n",
    "    for id, turns in instructions.items():\n",
    "        for turn in turns:\n",
    "            all_turns.append((id, turn))\n",
    "\n",
    "    # Shuffle the list of turns\n",
    "    random.shuffle(all_turns)\n",
    "\n",
    "    for id, turn in all_turns:\n",
    "        folder_path = os.path.join(directory_path, id)\n",
    "        if os.path.isdir(folder_path):\n",
    "            original_img = turn[\"input\"]\n",
    "            mask_img = turn[\"mask\"]\n",
    "            edited_img = turn[\"output\"]\n",
    "            prompt = turn[\"instruction\"]\n",
    "            turn = re.search(r'output(\\d+)\\.png', edited_img).group(1)\n",
    "\n",
    "            img_array_original = get_img_array(folder_path, original_img)\n",
    "            img_array_mask = get_img_array(folder_path, mask_img)\n",
    "            img_array_edit = get_img_array(folder_path, edited_img)\n",
    "\n",
    "            yield id, img_array_original, img_array_mask, img_array_edit, prompt, turn\n",
    "\n",
    "# Create the generator\n",
    "image_gen = image_generator(directory_path)"
   ]
  },
  {
   "cell_type": "code",
   "execution_count": 4,
   "metadata": {
    "ExecuteTime": {
     "end_time": "2024-11-06T15:52:45.705594Z",
     "start_time": "2024-11-06T15:52:45.689308Z"
    },
    "collapsed": false,
    "jupyter": {
     "outputs_hidden": false
    }
   },
   "outputs": [],
   "source": [
    "# save what ids and turns the annotator has already labeled\n",
    "annotator_labeled = set()\n",
    "# save how often turn was already labeled (we need 3)\n",
    "three_times_labeled = {}\n",
    "\n",
    "# load existing progress for the annotator\n",
    "def load_progress(annotator):\n",
    "    if not os.path.exists(\"output.json\"):\n",
    "        return set()\n",
    "\n",
    "    global annotator_labeled, three_times_labeled\n",
    "    user_progress = set()\n",
    "\n",
    "    with open(\"output.json\", 'r') as f:\n",
    "        for line in f:\n",
    "            entry = json.loads(line)\n",
    "            if entry.get(\"annotator\") == annotator:\n",
    "                user_progress.add(entry[\"id\"])\n",
    "                annotator_labeled.add((entry[\"id\"], entry[\"turn\"]))\n",
    "\n",
    "            key = (entry[\"id\"], entry[\"turn\"])\n",
    "            if key in three_times_labeled:\n",
    "                three_times_labeled[key] += 1\n",
    "            else:\n",
    "                three_times_labeled[key] = 1\n",
    "\n",
    "    return user_progress"
   ]
  },
  {
   "cell_type": "code",
   "execution_count": 5,
   "metadata": {
    "ExecuteTime": {
     "end_time": "2024-11-06T15:52:45.706375Z",
     "start_time": "2024-11-06T15:52:45.699912Z"
    },
    "collapsed": false,
    "jupyter": {
     "outputs_hidden": false
    }
   },
   "outputs": [],
   "source": [
    "def labeled_by_annotator(id, turn):\n",
    "    return (id, turn) in annotator_labeled\n",
    "\n",
    "def labeled_three_times(id, turn):\n",
    "    return three_times_labeled.get((id, turn), 0) >= 3"
   ]
  },
  {
   "cell_type": "code",
   "execution_count": 6,
   "metadata": {
    "ExecuteTime": {
     "end_time": "2024-11-06T15:52:45.724076Z",
     "start_time": "2024-11-06T15:52:45.709153Z"
    },
    "id": "E-p0k1dXfntS"
   },
   "outputs": [],
   "source": [
    "# save input\n",
    "user_progress = {}\n",
    "\n",
    "def record_input(id, alignment, aesthetics, consistency, overall, annotator, turn):\n",
    "    # if no name was entered, rating won't be registered\n",
    "    if annotator:\n",
    "        output = {\n",
    "            \"id\": id,\n",
    "            \"turn\": turn,\n",
    "            \"alignment\": alignment,\n",
    "            \"aesthetics\": aesthetics,\n",
    "            \"consistency\": consistency,\n",
    "            \"overall\": overall,\n",
    "            \"annotator\": annotator\n",
    "        }\n",
    "        with open(\"output.json\", 'a') as f:\n",
    "            json.dump(output, f)\n",
    "            f.write(\"\\n\")\n",
    "\n",
    "        # Update user progress\n",
    "        if annotator not in user_progress:\n",
    "            user_progress[annotator] = set()\n",
    "        user_progress[annotator].add(id)\n",
    "\n",
    "        annotator_labeled.add((id, turn))\n",
    "        key = (id, turn)\n",
    "        three_times_labeled[key] = three_times_labeled.get(key, 0) + 1\n",
    "\n",
    "    try:\n",
    "        id, img_array_original, img_array_mask, img_array_edit, prompt, turn = next(image_gen)\n",
    "        while labeled_by_annotator(id, turn) or labeled_three_times(id, turn):\n",
    "            id, img_array_original, img_array_mask, img_array_edit, prompt, turn = next(image_gen)\n",
    "    except StopIteration:\n",
    "        progress_message = \"No more images!\", f\"You have labeled **{len(user_progress.get(annotator, []))}** out of 528 potential images.\"\n",
    "        return id, None, None, None, progress_message, turn, 5, 5, 5, 5\n",
    "\n",
    "    # Count the number of labeled images\n",
    "    labeled_count = len(user_progress.get(annotator, []))\n",
    "    progress_message = f\"You have labeled **{labeled_count}** out of 528 potential images.\"\n",
    "    return id, img_array_original, img_array_mask, img_array_edit, prompt, progress_message, turn, 5, 5, 5, 5"
   ]
  },
  {
   "cell_type": "code",
   "execution_count": 7,
   "metadata": {
    "ExecuteTime": {
     "end_time": "2024-11-06T15:52:45.724723Z",
     "start_time": "2024-11-06T15:52:45.717485Z"
    },
    "id": "hbOpF9TihmKL"
   },
   "outputs": [],
   "source": [
    "# start labeling\n",
    "def start(annotator):\n",
    "    global user_progress\n",
    "    user_progress[annotator] = load_progress(annotator)\n",
    "\n",
    "    try:\n",
    "        id, img_array_original, img_array_mask, img_array_edit, prompt, turn = next(image_gen)\n",
    "        while labeled_by_annotator(id, turn) or labeled_three_times(id, turn):\n",
    "            id, img_array_original, img_array_mask, img_array_edit, prompt, turn = next(image_gen)\n",
    "    except StopIteration:\n",
    "        end_message =\"No more images!\"\n",
    "        progress_message = f\"You have labeled **{len(user_progress.get(annotator, []))}** out of 528 potential images!\"\n",
    "        return 0, None, None, None, end_message, progress_message, turn\n",
    "\n",
    "    labeled_count = len(user_progress.get(annotator, []))\n",
    "    progress_message = f\"You have labeled **{labeled_count}** out of 528 potential images.\"\n",
    "    return id, img_array_original, img_array_mask, img_array_edit, prompt, progress_message, turn"
   ]
  },
  {
   "cell_type": "code",
   "execution_count": null,
   "metadata": {
    "ExecuteTime": {
     "start_time": "2024-11-06T15:52:45.730897Z"
    },
    "colab": {
     "base_uri": "https://localhost:8080/",
     "height": 1000
    },
    "id": "O1NszKX1Rzno",
    "is_executing": true,
    "outputId": "c738223e-7ff5-49bf-a3c2-26843814aec2"
   },
   "outputs": [],
   "source": [
    "with gr.Blocks() as demo:\n",
    "    gr.Markdown(instruction_beginning)\n",
    "\n",
    "    annotator = gr.Textbox(label=\"Nickname\", interactive=True)\n",
    "\n",
    "    start_btn = gr.Button(\"Start\")\n",
    "    progress_text = gr.Markdown(\"You have labeled **0** out of 528 potential images.\")\n",
    "\n",
    "    # triplet\n",
    "    with gr.Row():\n",
    "        img_block1 = gr.Image(visible=True, width=300, height=300, interactive=False, label=\"Original Image\")\n",
    "        img_block2 = gr.Image(visible=True, width=300, height=300, interactive=False, label=\"Mask\")\n",
    "        img_block3 = gr.Image(visible=True, width=300, height=300, interactive=False, label=\"Edited Image\")\n",
    "\n",
    "    prompt = gr.Textbox(label=\"Prompt\", visible=True, interactive=False)\n",
    "    img_id = gr.Textbox(visible=False)\n",
    "    turn = gr.Textbox(visible=False)\n",
    "\n",
    "    # Drei Sliders für die Bewertung\n",
    "    with gr.Row():\n",
    "        slider_alignment = gr.Slider(label=\"Prompt-Image Alignment\", minimum=0, maximum=10, step=1, value=5, info=alignment_info)\n",
    "        slider_aesthetics = gr.Slider(label=\"Visual Quality\", minimum=0, maximum=10, step=1, value=5, info=quality_info)\n",
    "        slider_consistency = gr.Slider(label=\"Consistency\", minimum=0, maximum=10, step=1, value=5, info=consistency_info)\n",
    "\n",
    "    slider_overall = gr.Slider(label=\"Overall Impression\", minimum=0, maximum=10, step=1, value=5, info=overall_info)\n",
    "\n",
    "    save_and_continue_btn = gr.Button(\"Save & Continue\")\n",
    "\n",
    "    start_btn.click(\n",
    "        fn=start,\n",
    "        inputs=[annotator],\n",
    "        outputs=[img_id, img_block1, img_block2, img_block3, prompt, progress_text, turn]\n",
    "    )\n",
    "    save_and_continue_btn.click(\n",
    "        fn=record_input,\n",
    "        inputs=[img_id, slider_alignment, slider_aesthetics, slider_consistency, slider_overall, annotator, turn],\n",
    "        outputs=[img_id, img_block1, img_block2, img_block3, prompt, progress_text, turn, slider_alignment, slider_aesthetics, slider_consistency, slider_overall]\n",
    "    )\n",
    "\n",
    "demo.queue()\n",
    "demo.launch(share=True, debug=True)"
   ]
  },
  {
   "cell_type": "code",
   "execution_count": 24,
   "metadata": {
    "ExecuteTime": {
     "end_time": "2024-10-02T08:11:25.981915Z",
     "start_time": "2024-10-02T08:11:25.980281Z"
    },
    "id": "zKb4UBzoSW8p"
   },
   "outputs": [],
   "source": [
    "# filter images etc -> only use none \"remove\", only \"add, make\"\n",
    "\n",
    "# if three people already labeled this specific turn, do not show again\n",
    "\n",
    "# every id and turn max 3\n",
    "# no same image for the person\n",
    "\n",
    "# mechanism if everything was already labeled 3 times -> stop"
   ]
  }
 ],
 "metadata": {
  "colab": {
   "provenance": []
  },
  "kernelspec": {
   "display_name": "Python 3 (ipykernel)",
   "language": "python",
   "name": "python3"
  },
  "language_info": {
   "codemirror_mode": {
    "name": "ipython",
    "version": 3
   },
   "file_extension": ".py",
   "mimetype": "text/x-python",
   "name": "python",
   "nbconvert_exporter": "python",
   "pygments_lexer": "ipython3",
   "version": "3.9.13"
  }
 },
 "nbformat": 4,
 "nbformat_minor": 4
}
