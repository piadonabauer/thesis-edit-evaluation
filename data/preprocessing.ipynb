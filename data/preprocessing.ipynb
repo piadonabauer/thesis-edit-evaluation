{
 "cells": [
  {
   "cell_type": "markdown",
   "id": "9e612d3d-4bb6-4215-b999-0443aa7921e0",
   "metadata": {},
   "source": [
    "# Preprocess Datasets\n",
    "\n",
    "See DATASET.md for more details."
   ]
  },
  {
   "cell_type": "markdown",
   "id": "eb6f36a3-81ec-408f-a49d-6f11bb72eac3",
   "metadata": {},
   "source": [
    "Installing required libraries."
   ]
  },
  {
   "cell_type": "code",
   "execution_count": null,
   "id": "f4444bde-6c75-4db9-8b8c-a56f64e7ba4d",
   "metadata": {},
   "outputs": [],
   "source": [
    "!pip install opencv-python -q\n",
    "!pip install pandas -q\n",
    "!pip install imageio-ffmpeg -q\n",
    "!pip install fastparquet -q\n",
    "!pip install matplotlib --user -q\n",
    "!pip install numpy==1.26.4 -q\n",
    "!pip install pyarrow --upgrade -q"
   ]
  },
  {
   "cell_type": "code",
   "execution_count": 3,
   "id": "dc03ea86-3f0f-4bc5-8d22-2c79cc6e3501",
   "metadata": {},
   "outputs": [
    {
     "name": "stderr",
     "output_type": "stream",
     "text": [
      "/opt/conda/lib/python3.9/site-packages/pandas/core/computation/expressions.py:21: UserWarning: Pandas requires version '2.8.4' or newer of 'numexpr' (version '2.8.0' currently installed).\n",
      "  from pandas.core.computation.check import NUMEXPR_INSTALLED\n",
      "/opt/conda/lib/python3.9/site-packages/pandas/core/arrays/masked.py:60: UserWarning: Pandas requires version '1.3.6' or newer of 'bottleneck' (version '1.3.5' currently installed).\n",
      "  from pandas.core import (\n"
     ]
    }
   ],
   "source": [
    "import cv2\n",
    "import os\n",
    "import pandas as pd\n",
    "import numpy as np\n",
    "import io\n",
    "import random\n",
    "from PIL import Image\n",
    "from PIL import Image as PILImage\n",
    "from IPython.display import display\n",
    "from tqdm import tqdm"
   ]
  },
  {
   "cell_type": "markdown",
   "id": "c7837fa3-6dda-473d-9181-a1f2a94046d4",
   "metadata": {},
   "source": [
    "Dataset options include *MagicBrush* (used for fine-tuning OpenCLIP and correlation evaluation of fine-tuned ViFi-CLIP) and *HumanEdit* (utilized for fine-tuning ViFi-CLIP)."
   ]
  },
  {
   "cell_type": "code",
   "execution_count": 4,
   "id": "cb934927-0e84-46a9-8d54-0ec0eff92f94",
   "metadata": {},
   "outputs": [],
   "source": [
    "dataset = \"MagicBrush\"  # 'HumanEdit'\n",
    "# dataset = os.getenv('DATASET')\n",
    "\n",
    "if dataset not in [\"MagicBrush\", \"HumanEdit\"]:\n",
    "    print(\n",
    "        f\"Invalid dataset specified: '{dataset}'. Choose from: 'MagicBrush', 'HumanEdit'.\"\n",
    "    )\n",
    "\n",
    "dataset_path = dataset.lower()"
   ]
  },
  {
   "cell_type": "markdown",
   "id": "fa4898e2-9641-435f-867a-5a3c7e3a3107",
   "metadata": {},
   "source": [
    "Read parquet file format."
   ]
  },
  {
   "cell_type": "code",
   "execution_count": 5,
   "id": "93d9672e-b0f2-4205-b214-dd4c9cb29638",
   "metadata": {},
   "outputs": [],
   "source": [
    "if dataset == \"HumanEdit\":\n",
    "    file_path = (\n",
    "        \"humanedit_test/HumanEdit/data/train-00000-of-00034-d4bc386d6caf62fb.parquet\"\n",
    "    )\n",
    "elif dataset == \"MagicBrush\":\n",
    "    file_path = (\n",
    "        \"magicbrush_test/MagicBrush/data/train-00016-of-00051-2ce592a2aa4c0b2d.parquet\"\n",
    "    )"
   ]
  },
  {
   "cell_type": "code",
   "execution_count": 3,
   "id": "2fa561bc-678a-432c-951a-17e79a4037fa",
   "metadata": {},
   "outputs": [
    {
     "name": "stdout",
     "output_type": "stream",
     "text": [
      "IMAGE_ID                   object\n",
      "EDITING_TYPE               object\n",
      "CORE                        int32\n",
      "MASK                        int32\n",
      "EDITING_INSTRUCTION        object\n",
      "OUTPUT_DESCRIPTION         object\n",
      "INPUT_CAPTION_BY_LLAMA     object\n",
      "OUTPUT_CAPTION_BY_LLAMA    object\n",
      "INPUT_IMG                  object\n",
      "MASK_IMG                   object\n",
      "OUTPUT_IMG                 object\n",
      "dtype: object\n"
     ]
    }
   ],
   "source": [
    "# HumanEdit\n",
    "df = pd.read_parquet(file_path, engine=\"pyarrow\")\n",
    "print(df.dtypes)"
   ]
  },
  {
   "cell_type": "code",
   "execution_count": 6,
   "id": "a8318918-baf8-48b0-ba6d-107667a3fe6c",
   "metadata": {},
   "outputs": [
    {
     "name": "stdout",
     "output_type": "stream",
     "text": [
      "img_id         object\n",
      "turn_index      int32\n",
      "source_img     object\n",
      "mask_img       object\n",
      "instruction    object\n",
      "target_img     object\n",
      "dtype: object\n"
     ]
    }
   ],
   "source": [
    "# MagicBrush\n",
    "df = pd.read_parquet(file_path, engine=\"pyarrow\")\n",
    "print(df.dtypes)"
   ]
  },
  {
   "cell_type": "markdown",
   "id": "3ad41f53-e7bb-47cd-a99f-3de5271b6816",
   "metadata": {},
   "source": [
    "Specify relevant columns."
   ]
  },
  {
   "cell_type": "code",
   "execution_count": 7,
   "id": "e1d0343a-dda2-48f1-9e97-1f6a18299e3d",
   "metadata": {},
   "outputs": [],
   "source": [
    "if dataset == \"HumanEdit\":\n",
    "    input_img_column = \"INPUT_IMG\"\n",
    "    output_img_column = \"OUTPUT_IMG\"\n",
    "    instr_column = \"EDITING_INSTRUCTION\"\n",
    "    image_id_column = \"IMAGE_ID\"\n",
    "\n",
    "elif dataset == \"MagicBrush\":\n",
    "    input_img_column = \"source_img\"\n",
    "    output_img_column = \"target_img\"\n",
    "    instr_column = \"instruction\"\n",
    "    image_id_column = \"unique_id\"  # will be created in the next section"
   ]
  },
  {
   "cell_type": "markdown",
   "id": "7b5ccc0b-0c1d-4b23-8221-d2a2ccbdf46e",
   "metadata": {},
   "source": [
    "Read all parquet files into a single dataframe."
   ]
  },
  {
   "cell_type": "code",
   "execution_count": 8,
   "id": "9543ea7c-8f9f-4ed2-b30a-3e158b5131bd",
   "metadata": {},
   "outputs": [
    {
     "name": "stderr",
     "output_type": "stream",
     "text": [
      "Processing parquet files: 100%|██████████| 55/55 [03:55<00:00,  4.28s/it]\n"
     ]
    }
   ],
   "source": [
    "data_dir = f\"{dataset_path}/{dataset}/data\"\n",
    "\n",
    "parquet_files = [f for f in os.listdir(data_dir) if f.endswith(\".parquet\")]\n",
    "\n",
    "df_list = []\n",
    "for file in tqdm(parquet_files, \"Processing parquet files\"):\n",
    "    file_path = os.path.join(data_dir, file)\n",
    "    df = pd.read_parquet(file_path)\n",
    "    df_list.append(df)\n",
    "\n",
    "combined_df = pd.concat(df_list, ignore_index=True)"
   ]
  },
  {
   "cell_type": "code",
   "execution_count": 10,
   "id": "ff92bd93-fd33-4291-8962-7343733c893e",
   "metadata": {},
   "outputs": [],
   "source": [
    "if dataset == \"MagicBrush\":\n",
    "    combined_df[\"unique_id\"] = (\n",
    "        combined_df[\"img_id\"].astype(str) + \"_\" + combined_df[\"turn_index\"].astype(str)\n",
    "    )"
   ]
  },
  {
   "cell_type": "code",
   "execution_count": 6,
   "id": "873b206f-80a3-49fa-9a64-2dd6d91000c5",
   "metadata": {},
   "outputs": [
    {
     "data": {
      "text/html": [
       "<div>\n",
       "<style scoped>\n",
       "    .dataframe tbody tr th:only-of-type {\n",
       "        vertical-align: middle;\n",
       "    }\n",
       "\n",
       "    .dataframe tbody tr th {\n",
       "        vertical-align: top;\n",
       "    }\n",
       "\n",
       "    .dataframe thead th {\n",
       "        text-align: right;\n",
       "    }\n",
       "</style>\n",
       "<table border=\"1\" class=\"dataframe\">\n",
       "  <thead>\n",
       "    <tr style=\"text-align: right;\">\n",
       "      <th></th>\n",
       "      <th>IMAGE_ID</th>\n",
       "      <th>EDITING_TYPE</th>\n",
       "      <th>CORE</th>\n",
       "      <th>MASK</th>\n",
       "      <th>EDITING_INSTRUCTION</th>\n",
       "      <th>OUTPUT_DESCRIPTION</th>\n",
       "      <th>INPUT_CAPTION_BY_LLAMA</th>\n",
       "      <th>OUTPUT_CAPTION_BY_LLAMA</th>\n",
       "      <th>INPUT_IMG</th>\n",
       "      <th>MASK_IMG</th>\n",
       "      <th>OUTPUT_IMG</th>\n",
       "    </tr>\n",
       "  </thead>\n",
       "  <tbody>\n",
       "    <tr>\n",
       "      <th>0</th>\n",
       "      <td>000000044977</td>\n",
       "      <td>Counting</td>\n",
       "      <td>0</td>\n",
       "      <td>0</td>\n",
       "      <td>The number of parachutes reduces to one.</td>\n",
       "      <td>There is a red parachute floating in the sky, ...</td>\n",
       "      <td>The image depicts a vibrant scene of kites soa...</td>\n",
       "      <td>The image depicts a serene scene of people fly...</td>\n",
       "      <td>{'bytes': b'\\xff\\xd8\\xff\\xe0\\x00\\x10JFIF\\x00\\x...</td>\n",
       "      <td>{'bytes': b'\\x89PNG\\r\\n\\x1a\\n\\x00\\x00\\x00\\rIHD...</td>\n",
       "      <td>{'bytes': b'\\x89PNG\\r\\n\\x1a\\n\\x00\\x00\\x00\\rIHD...</td>\n",
       "    </tr>\n",
       "    <tr>\n",
       "      <th>1</th>\n",
       "      <td>000000048665</td>\n",
       "      <td>Counting</td>\n",
       "      <td>0</td>\n",
       "      <td>0</td>\n",
       "      <td>The number of oranges reduces to two.</td>\n",
       "      <td>There are two oranges and a banana on the table</td>\n",
       "      <td>The image depicts a banana and three oranges a...</td>\n",
       "      <td>A fruit arrangement on a wooden table, featuri...</td>\n",
       "      <td>{'bytes': b'\\xff\\xd8\\xff\\xe0\\x00\\x10JFIF\\x00\\x...</td>\n",
       "      <td>{'bytes': b'\\x89PNG\\r\\n\\x1a\\n\\x00\\x00\\x00\\rIHD...</td>\n",
       "      <td>{'bytes': b'\\x89PNG\\r\\n\\x1a\\n\\x00\\x00\\x00\\rIHD...</td>\n",
       "    </tr>\n",
       "    <tr>\n",
       "      <th>2</th>\n",
       "      <td>000000050827</td>\n",
       "      <td>Counting</td>\n",
       "      <td>0</td>\n",
       "      <td>0</td>\n",
       "      <td>The quantity of pizza reduces to two pieces.</td>\n",
       "      <td>Two white plates with two slices of pizza on a...</td>\n",
       "      <td>Pizza, the ultimate comfort food.</td>\n",
       "      <td>Two slices of pizza on paper plates, viewed fr...</td>\n",
       "      <td>{'bytes': b'\\xff\\xd8\\xff\\xe0\\x00\\x10JFIF\\x00\\x...</td>\n",
       "      <td>{'bytes': b'\\x89PNG\\r\\n\\x1a\\n\\x00\\x00\\x00\\rIHD...</td>\n",
       "      <td>{'bytes': b'\\x89PNG\\r\\n\\x1a\\n\\x00\\x00\\x00\\rIHD...</td>\n",
       "    </tr>\n",
       "    <tr>\n",
       "      <th>3</th>\n",
       "      <td>000000053892</td>\n",
       "      <td>Counting</td>\n",
       "      <td>0</td>\n",
       "      <td>0</td>\n",
       "      <td>The number of cakes reduces to four.</td>\n",
       "      <td>Four cakes are placed on the yellow paper</td>\n",
       "      <td>The image shows a box of donuts with a blue \"V...</td>\n",
       "      <td>The image shows a close-up view of four square...</td>\n",
       "      <td>{'bytes': b'\\xff\\xd8\\xff\\xe0\\x00\\x10JFIF\\x00\\x...</td>\n",
       "      <td>{'bytes': b'\\x89PNG\\r\\n\\x1a\\n\\x00\\x00\\x00\\rIHD...</td>\n",
       "      <td>{'bytes': b'\\x89PNG\\r\\n\\x1a\\n\\x00\\x00\\x00\\rIHD...</td>\n",
       "    </tr>\n",
       "    <tr>\n",
       "      <th>4</th>\n",
       "      <td>000000056624</td>\n",
       "      <td>Counting</td>\n",
       "      <td>0</td>\n",
       "      <td>0</td>\n",
       "      <td>The number of trees changes from three to one.</td>\n",
       "      <td>The bench is covered with snow and there is a ...</td>\n",
       "      <td>The image depicts a serene winter scene, with ...</td>\n",
       "      <td>A serene winter scene unfolds in a snow-covere...</td>\n",
       "      <td>{'bytes': b'\\xff\\xd8\\xff\\xe0\\x00\\x10JFIF\\x00\\x...</td>\n",
       "      <td>{'bytes': b'\\x89PNG\\r\\n\\x1a\\n\\x00\\x00\\x00\\rIHD...</td>\n",
       "      <td>{'bytes': b'\\x89PNG\\r\\n\\x1a\\n\\x00\\x00\\x00\\rIHD...</td>\n",
       "    </tr>\n",
       "  </tbody>\n",
       "</table>\n",
       "</div>"
      ],
      "text/plain": [
       "       IMAGE_ID EDITING_TYPE  CORE  MASK  \\\n",
       "0  000000044977     Counting     0     0   \n",
       "1  000000048665     Counting     0     0   \n",
       "2  000000050827     Counting     0     0   \n",
       "3  000000053892     Counting     0     0   \n",
       "4  000000056624     Counting     0     0   \n",
       "\n",
       "                              EDITING_INSTRUCTION  \\\n",
       "0        The number of parachutes reduces to one.   \n",
       "1           The number of oranges reduces to two.   \n",
       "2    The quantity of pizza reduces to two pieces.   \n",
       "3            The number of cakes reduces to four.   \n",
       "4  The number of trees changes from three to one.   \n",
       "\n",
       "                                  OUTPUT_DESCRIPTION  \\\n",
       "0  There is a red parachute floating in the sky, ...   \n",
       "1    There are two oranges and a banana on the table   \n",
       "2  Two white plates with two slices of pizza on a...   \n",
       "3          Four cakes are placed on the yellow paper   \n",
       "4  The bench is covered with snow and there is a ...   \n",
       "\n",
       "                              INPUT_CAPTION_BY_LLAMA  \\\n",
       "0  The image depicts a vibrant scene of kites soa...   \n",
       "1  The image depicts a banana and three oranges a...   \n",
       "2                  Pizza, the ultimate comfort food.   \n",
       "3  The image shows a box of donuts with a blue \"V...   \n",
       "4  The image depicts a serene winter scene, with ...   \n",
       "\n",
       "                             OUTPUT_CAPTION_BY_LLAMA  \\\n",
       "0  The image depicts a serene scene of people fly...   \n",
       "1  A fruit arrangement on a wooden table, featuri...   \n",
       "2  Two slices of pizza on paper plates, viewed fr...   \n",
       "3  The image shows a close-up view of four square...   \n",
       "4  A serene winter scene unfolds in a snow-covere...   \n",
       "\n",
       "                                           INPUT_IMG  \\\n",
       "0  {'bytes': b'\\xff\\xd8\\xff\\xe0\\x00\\x10JFIF\\x00\\x...   \n",
       "1  {'bytes': b'\\xff\\xd8\\xff\\xe0\\x00\\x10JFIF\\x00\\x...   \n",
       "2  {'bytes': b'\\xff\\xd8\\xff\\xe0\\x00\\x10JFIF\\x00\\x...   \n",
       "3  {'bytes': b'\\xff\\xd8\\xff\\xe0\\x00\\x10JFIF\\x00\\x...   \n",
       "4  {'bytes': b'\\xff\\xd8\\xff\\xe0\\x00\\x10JFIF\\x00\\x...   \n",
       "\n",
       "                                            MASK_IMG  \\\n",
       "0  {'bytes': b'\\x89PNG\\r\\n\\x1a\\n\\x00\\x00\\x00\\rIHD...   \n",
       "1  {'bytes': b'\\x89PNG\\r\\n\\x1a\\n\\x00\\x00\\x00\\rIHD...   \n",
       "2  {'bytes': b'\\x89PNG\\r\\n\\x1a\\n\\x00\\x00\\x00\\rIHD...   \n",
       "3  {'bytes': b'\\x89PNG\\r\\n\\x1a\\n\\x00\\x00\\x00\\rIHD...   \n",
       "4  {'bytes': b'\\x89PNG\\r\\n\\x1a\\n\\x00\\x00\\x00\\rIHD...   \n",
       "\n",
       "                                          OUTPUT_IMG  \n",
       "0  {'bytes': b'\\x89PNG\\r\\n\\x1a\\n\\x00\\x00\\x00\\rIHD...  \n",
       "1  {'bytes': b'\\x89PNG\\r\\n\\x1a\\n\\x00\\x00\\x00\\rIHD...  \n",
       "2  {'bytes': b'\\x89PNG\\r\\n\\x1a\\n\\x00\\x00\\x00\\rIHD...  \n",
       "3  {'bytes': b'\\x89PNG\\r\\n\\x1a\\n\\x00\\x00\\x00\\rIHD...  \n",
       "4  {'bytes': b'\\x89PNG\\r\\n\\x1a\\n\\x00\\x00\\x00\\rIHD...  "
      ]
     },
     "execution_count": 6,
     "metadata": {},
     "output_type": "execute_result"
    }
   ],
   "source": [
    "# HumanEdit\n",
    "combined_df.head()"
   ]
  },
  {
   "cell_type": "code",
   "execution_count": 11,
   "id": "2a5ec806-a7e1-459e-ae2c-5777e9e39062",
   "metadata": {},
   "outputs": [
    {
     "data": {
      "text/html": [
       "<div>\n",
       "<style scoped>\n",
       "    .dataframe tbody tr th:only-of-type {\n",
       "        vertical-align: middle;\n",
       "    }\n",
       "\n",
       "    .dataframe tbody tr th {\n",
       "        vertical-align: top;\n",
       "    }\n",
       "\n",
       "    .dataframe thead th {\n",
       "        text-align: right;\n",
       "    }\n",
       "</style>\n",
       "<table border=\"1\" class=\"dataframe\">\n",
       "  <thead>\n",
       "    <tr style=\"text-align: right;\">\n",
       "      <th></th>\n",
       "      <th>img_id</th>\n",
       "      <th>turn_index</th>\n",
       "      <th>source_img</th>\n",
       "      <th>mask_img</th>\n",
       "      <th>instruction</th>\n",
       "      <th>target_img</th>\n",
       "      <th>unique_id</th>\n",
       "    </tr>\n",
       "  </thead>\n",
       "  <tbody>\n",
       "    <tr>\n",
       "      <th>0</th>\n",
       "      <td>237608</td>\n",
       "      <td>2</td>\n",
       "      <td>{'bytes': b'\\x89PNG\\r\\n\\x1a\\n\\x00\\x00\\x00\\rIHD...</td>\n",
       "      <td>{'bytes': b'\\x89PNG\\r\\n\\x1a\\n\\x00\\x00\\x00\\rIHD...</td>\n",
       "      <td>make flames coming out of the fireplace</td>\n",
       "      <td>{'bytes': b'\\x89PNG\\r\\n\\x1a\\n\\x00\\x00\\x00\\rIHD...</td>\n",
       "      <td>237608_2</td>\n",
       "    </tr>\n",
       "    <tr>\n",
       "      <th>1</th>\n",
       "      <td>237608</td>\n",
       "      <td>3</td>\n",
       "      <td>{'bytes': b'\\x89PNG\\r\\n\\x1a\\n\\x00\\x00\\x00\\rIHD...</td>\n",
       "      <td>{'bytes': b'\\x89PNG\\r\\n\\x1a\\n\\x00\\x00\\x00\\rIHD...</td>\n",
       "      <td>have a dog wait at the door</td>\n",
       "      <td>{'bytes': b'\\x89PNG\\r\\n\\x1a\\n\\x00\\x00\\x00\\rIHD...</td>\n",
       "      <td>237608_3</td>\n",
       "    </tr>\n",
       "    <tr>\n",
       "      <th>2</th>\n",
       "      <td>125472</td>\n",
       "      <td>1</td>\n",
       "      <td>{'bytes': b'\\x89PNG\\r\\n\\x1a\\n\\x00\\x00\\x00\\rIHD...</td>\n",
       "      <td>{'bytes': b'\\x89PNG\\r\\n\\x1a\\n\\x00\\x00\\x00\\rIHD...</td>\n",
       "      <td>Have the person be holding a guitar</td>\n",
       "      <td>{'bytes': b'\\x89PNG\\r\\n\\x1a\\n\\x00\\x00\\x00\\rIHD...</td>\n",
       "      <td>125472_1</td>\n",
       "    </tr>\n",
       "    <tr>\n",
       "      <th>3</th>\n",
       "      <td>32816</td>\n",
       "      <td>1</td>\n",
       "      <td>{'bytes': b'\\x89PNG\\r\\n\\x1a\\n\\x00\\x00\\x00\\rIHD...</td>\n",
       "      <td>{'bytes': b'\\x89PNG\\r\\n\\x1a\\n\\x00\\x00\\x00\\rIHD...</td>\n",
       "      <td>get rid of the notebooks</td>\n",
       "      <td>{'bytes': b'\\x89PNG\\r\\n\\x1a\\n\\x00\\x00\\x00\\rIHD...</td>\n",
       "      <td>32816_1</td>\n",
       "    </tr>\n",
       "    <tr>\n",
       "      <th>4</th>\n",
       "      <td>32816</td>\n",
       "      <td>2</td>\n",
       "      <td>{'bytes': b'\\x89PNG\\r\\n\\x1a\\n\\x00\\x00\\x00\\rIHD...</td>\n",
       "      <td>{'bytes': b'\\x89PNG\\r\\n\\x1a\\n\\x00\\x00\\x00\\rIHD...</td>\n",
       "      <td>change the books to knickknacks</td>\n",
       "      <td>{'bytes': b'\\x89PNG\\r\\n\\x1a\\n\\x00\\x00\\x00\\rIHD...</td>\n",
       "      <td>32816_2</td>\n",
       "    </tr>\n",
       "  </tbody>\n",
       "</table>\n",
       "</div>"
      ],
      "text/plain": [
       "   img_id  turn_index                                         source_img  \\\n",
       "0  237608           2  {'bytes': b'\\x89PNG\\r\\n\\x1a\\n\\x00\\x00\\x00\\rIHD...   \n",
       "1  237608           3  {'bytes': b'\\x89PNG\\r\\n\\x1a\\n\\x00\\x00\\x00\\rIHD...   \n",
       "2  125472           1  {'bytes': b'\\x89PNG\\r\\n\\x1a\\n\\x00\\x00\\x00\\rIHD...   \n",
       "3   32816           1  {'bytes': b'\\x89PNG\\r\\n\\x1a\\n\\x00\\x00\\x00\\rIHD...   \n",
       "4   32816           2  {'bytes': b'\\x89PNG\\r\\n\\x1a\\n\\x00\\x00\\x00\\rIHD...   \n",
       "\n",
       "                                            mask_img  \\\n",
       "0  {'bytes': b'\\x89PNG\\r\\n\\x1a\\n\\x00\\x00\\x00\\rIHD...   \n",
       "1  {'bytes': b'\\x89PNG\\r\\n\\x1a\\n\\x00\\x00\\x00\\rIHD...   \n",
       "2  {'bytes': b'\\x89PNG\\r\\n\\x1a\\n\\x00\\x00\\x00\\rIHD...   \n",
       "3  {'bytes': b'\\x89PNG\\r\\n\\x1a\\n\\x00\\x00\\x00\\rIHD...   \n",
       "4  {'bytes': b'\\x89PNG\\r\\n\\x1a\\n\\x00\\x00\\x00\\rIHD...   \n",
       "\n",
       "                               instruction  \\\n",
       "0  make flames coming out of the fireplace   \n",
       "1              have a dog wait at the door   \n",
       "2      Have the person be holding a guitar   \n",
       "3                 get rid of the notebooks   \n",
       "4          change the books to knickknacks   \n",
       "\n",
       "                                          target_img unique_id  \n",
       "0  {'bytes': b'\\x89PNG\\r\\n\\x1a\\n\\x00\\x00\\x00\\rIHD...  237608_2  \n",
       "1  {'bytes': b'\\x89PNG\\r\\n\\x1a\\n\\x00\\x00\\x00\\rIHD...  237608_3  \n",
       "2  {'bytes': b'\\x89PNG\\r\\n\\x1a\\n\\x00\\x00\\x00\\rIHD...  125472_1  \n",
       "3  {'bytes': b'\\x89PNG\\r\\n\\x1a\\n\\x00\\x00\\x00\\rIHD...   32816_1  \n",
       "4  {'bytes': b'\\x89PNG\\r\\n\\x1a\\n\\x00\\x00\\x00\\rIHD...   32816_2  "
      ]
     },
     "execution_count": 11,
     "metadata": {},
     "output_type": "execute_result"
    }
   ],
   "source": [
    "# MagicBrush\n",
    "combined_df.head()"
   ]
  },
  {
   "cell_type": "markdown",
   "id": "407f2c7f-f09b-417b-924e-1197ef5bc248",
   "metadata": {},
   "source": [
    "### Create 2-frame Videos out of Images\n",
    "ViFi-CLIP architecture requires video inputs rather than image inputs. To this end, the image pairs are transformed in a video with two frames."
   ]
  },
  {
   "cell_type": "code",
   "execution_count": 12,
   "id": "39b0e251-51a1-45b3-a183-0e4828aa43c0",
   "metadata": {},
   "outputs": [],
   "source": [
    "def create_video(row, input_img_column, output_img_column, image_id_column):\n",
    "    input_img_bytes = row[input_img_column].get(\"bytes\", None)\n",
    "    output_img_bytes = row[output_img_column].get(\"bytes\", None)\n",
    "    edit_id = row[image_id_column]\n",
    "\n",
    "    input_img = cv2.imdecode(np.frombuffer(input_img_bytes, np.uint8), cv2.IMREAD_COLOR)\n",
    "    output_img = cv2.imdecode(\n",
    "        np.frombuffer(output_img_bytes, np.uint8), cv2.IMREAD_COLOR\n",
    "    )\n",
    "\n",
    "    input_img = cv2.resize(input_img, (224, 224))\n",
    "    output_img = cv2.resize(output_img, (224, 224))\n",
    "\n",
    "    video_path = f\"{dataset_path}/videos/{edit_id}.mp4\"\n",
    "\n",
    "    fourcc = cv2.VideoWriter_fourcc(*\"mp4v\")\n",
    "    fps = 1\n",
    "    height, width, _ = input_img.shape\n",
    "    out = cv2.VideoWriter(video_path, fourcc, fps, (width, height))\n",
    "\n",
    "    out.write(input_img)\n",
    "    out.write(output_img)\n",
    "    out.release()"
   ]
  },
  {
   "cell_type": "code",
   "execution_count": 13,
   "id": "8683fd5e-5340-483b-8577-bcc67a5c8569",
   "metadata": {},
   "outputs": [
    {
     "name": "stderr",
     "output_type": "stream",
     "text": [
      "Creating videos: 9335it [05:21, 29.03it/s]"
     ]
    },
    {
     "name": "stdout",
     "output_type": "stream",
     "text": [
      "Videos created!\n"
     ]
    },
    {
     "name": "stderr",
     "output_type": "stream",
     "text": [
      "\n"
     ]
    }
   ],
   "source": [
    "for idx, row in tqdm(combined_df.iterrows(), \"Creating videos\"):\n",
    "    create_video(row, input_img_column, output_img_column, image_id_column)\n",
    "\n",
    "print(\"Videos created!\")"
   ]
  },
  {
   "cell_type": "markdown",
   "id": "995ee73a-d4d1-434a-8450-a77c4b078dc1",
   "metadata": {},
   "source": [
    "### Create .csv File with Instruction Classes\n",
    "Fine-tuning of ViFi-CLIP requires a .csv file of unique classes and their ids. As *instruction-guided image editing* datasets usually contain instructions instead of classes, those are assigned to ids. "
   ]
  },
  {
   "cell_type": "code",
   "execution_count": 14,
   "id": "9e5e41f5-431f-4249-9920-dc2b07361d1f",
   "metadata": {},
   "outputs": [],
   "source": [
    "# unique editing instructions\n",
    "editing_instructions = combined_df[instr_column].unique()"
   ]
  },
  {
   "cell_type": "code",
   "execution_count": 18,
   "id": "1abb0474-b233-41bb-b601-859ba198f5a3",
   "metadata": {},
   "outputs": [
    {
     "data": {
      "text/plain": [
       "array(['The number of parachutes reduces to one.',\n",
       "       'The number of oranges reduces to two.',\n",
       "       'The quantity of pizza reduces to two pieces.', ...,\n",
       "       'The girl has one hand on the waist.',\n",
       "       'The sika deer twist their heads.', 'A lady looks up at the sky.'],\n",
       "      dtype=object)"
      ]
     },
     "execution_count": 18,
     "metadata": {},
     "output_type": "execute_result"
    }
   ],
   "source": [
    "# HumanEdit\n",
    "editing_instructions"
   ]
  },
  {
   "cell_type": "code",
   "execution_count": 15,
   "id": "32682157-6611-4662-a588-186ca15d56ba",
   "metadata": {},
   "outputs": [
    {
     "data": {
      "text/plain": [
       "array(['make flames coming out of the fireplace',\n",
       "       'have a dog wait at the door',\n",
       "       'Have the person be holding a guitar', ...,\n",
       "       \"There should be a bird on the bear's back.\",\n",
       "       'change the cat into an owl',\n",
       "       'change the glass of water into a glass of cola'], dtype=object)"
      ]
     },
     "execution_count": 15,
     "metadata": {},
     "output_type": "execute_result"
    }
   ],
   "source": [
    "# MagicBrush\n",
    "editing_instructions"
   ]
  },
  {
   "cell_type": "code",
   "execution_count": 16,
   "id": "c437530d-4aae-4292-8774-2c13967b6eb8",
   "metadata": {},
   "outputs": [],
   "source": [
    "# create csv file for instructions with corresponding class labels\n",
    "instructions_df = pd.DataFrame(\n",
    "    {\n",
    "        \"id\": range(len(editing_instructions)),\n",
    "        \"name\": [instr.lower().replace(\".\", \"\") for instr in editing_instructions],\n",
    "    }\n",
    ")"
   ]
  },
  {
   "cell_type": "code",
   "execution_count": 20,
   "id": "a1913bc8-4943-44af-a6da-96a440d4340c",
   "metadata": {},
   "outputs": [
    {
     "data": {
      "text/html": [
       "<div>\n",
       "<style scoped>\n",
       "    .dataframe tbody tr th:only-of-type {\n",
       "        vertical-align: middle;\n",
       "    }\n",
       "\n",
       "    .dataframe tbody tr th {\n",
       "        vertical-align: top;\n",
       "    }\n",
       "\n",
       "    .dataframe thead th {\n",
       "        text-align: right;\n",
       "    }\n",
       "</style>\n",
       "<table border=\"1\" class=\"dataframe\">\n",
       "  <thead>\n",
       "    <tr style=\"text-align: right;\">\n",
       "      <th></th>\n",
       "      <th>id</th>\n",
       "      <th>name</th>\n",
       "    </tr>\n",
       "  </thead>\n",
       "  <tbody>\n",
       "    <tr>\n",
       "      <th>0</th>\n",
       "      <td>0</td>\n",
       "      <td>the number of parachutes reduces to one</td>\n",
       "    </tr>\n",
       "    <tr>\n",
       "      <th>1</th>\n",
       "      <td>1</td>\n",
       "      <td>the number of oranges reduces to two</td>\n",
       "    </tr>\n",
       "    <tr>\n",
       "      <th>2</th>\n",
       "      <td>2</td>\n",
       "      <td>the quantity of pizza reduces to two pieces</td>\n",
       "    </tr>\n",
       "    <tr>\n",
       "      <th>3</th>\n",
       "      <td>3</td>\n",
       "      <td>the number of cakes reduces to four</td>\n",
       "    </tr>\n",
       "    <tr>\n",
       "      <th>4</th>\n",
       "      <td>4</td>\n",
       "      <td>the number of trees changes from three to one</td>\n",
       "    </tr>\n",
       "    <tr>\n",
       "      <th>...</th>\n",
       "      <td>...</td>\n",
       "      <td>...</td>\n",
       "    </tr>\n",
       "    <tr>\n",
       "      <th>4529</th>\n",
       "      <td>4529</td>\n",
       "      <td>put the girl's left hand down</td>\n",
       "    </tr>\n",
       "    <tr>\n",
       "      <th>4530</th>\n",
       "      <td>4530</td>\n",
       "      <td>tilt the girl's head to look to the side</td>\n",
       "    </tr>\n",
       "    <tr>\n",
       "      <th>4531</th>\n",
       "      <td>4531</td>\n",
       "      <td>the girl has one hand on the waist</td>\n",
       "    </tr>\n",
       "    <tr>\n",
       "      <th>4532</th>\n",
       "      <td>4532</td>\n",
       "      <td>the sika deer twist their heads</td>\n",
       "    </tr>\n",
       "    <tr>\n",
       "      <th>4533</th>\n",
       "      <td>4533</td>\n",
       "      <td>a lady looks up at the sky</td>\n",
       "    </tr>\n",
       "  </tbody>\n",
       "</table>\n",
       "<p>4534 rows × 2 columns</p>\n",
       "</div>"
      ],
      "text/plain": [
       "        id                                           name\n",
       "0        0        the number of parachutes reduces to one\n",
       "1        1           the number of oranges reduces to two\n",
       "2        2    the quantity of pizza reduces to two pieces\n",
       "3        3            the number of cakes reduces to four\n",
       "4        4  the number of trees changes from three to one\n",
       "...    ...                                            ...\n",
       "4529  4529                  put the girl's left hand down\n",
       "4530  4530       tilt the girl's head to look to the side\n",
       "4531  4531             the girl has one hand on the waist\n",
       "4532  4532                the sika deer twist their heads\n",
       "4533  4533                     a lady looks up at the sky\n",
       "\n",
       "[4534 rows x 2 columns]"
      ]
     },
     "execution_count": 20,
     "metadata": {},
     "output_type": "execute_result"
    }
   ],
   "source": [
    "# HumanEdit\n",
    "instructions_df"
   ]
  },
  {
   "cell_type": "code",
   "execution_count": 17,
   "id": "f8e481e0-8f17-4dc4-bab8-0898b9551072",
   "metadata": {},
   "outputs": [
    {
     "data": {
      "text/html": [
       "<div>\n",
       "<style scoped>\n",
       "    .dataframe tbody tr th:only-of-type {\n",
       "        vertical-align: middle;\n",
       "    }\n",
       "\n",
       "    .dataframe tbody tr th {\n",
       "        vertical-align: top;\n",
       "    }\n",
       "\n",
       "    .dataframe thead th {\n",
       "        text-align: right;\n",
       "    }\n",
       "</style>\n",
       "<table border=\"1\" class=\"dataframe\">\n",
       "  <thead>\n",
       "    <tr style=\"text-align: right;\">\n",
       "      <th></th>\n",
       "      <th>id</th>\n",
       "      <th>name</th>\n",
       "    </tr>\n",
       "  </thead>\n",
       "  <tbody>\n",
       "    <tr>\n",
       "      <th>0</th>\n",
       "      <td>0</td>\n",
       "      <td>make flames coming out of the fireplace</td>\n",
       "    </tr>\n",
       "    <tr>\n",
       "      <th>1</th>\n",
       "      <td>1</td>\n",
       "      <td>have a dog wait at the door</td>\n",
       "    </tr>\n",
       "    <tr>\n",
       "      <th>2</th>\n",
       "      <td>2</td>\n",
       "      <td>have the person be holding a guitar</td>\n",
       "    </tr>\n",
       "    <tr>\n",
       "      <th>3</th>\n",
       "      <td>3</td>\n",
       "      <td>get rid of the notebooks</td>\n",
       "    </tr>\n",
       "    <tr>\n",
       "      <th>4</th>\n",
       "      <td>4</td>\n",
       "      <td>change the books to knickknacks</td>\n",
       "    </tr>\n",
       "    <tr>\n",
       "      <th>...</th>\n",
       "      <td>...</td>\n",
       "      <td>...</td>\n",
       "    </tr>\n",
       "    <tr>\n",
       "      <th>8788</th>\n",
       "      <td>8788</td>\n",
       "      <td>let the sign board be red</td>\n",
       "    </tr>\n",
       "    <tr>\n",
       "      <th>8789</th>\n",
       "      <td>8789</td>\n",
       "      <td>only one bear should be visible</td>\n",
       "    </tr>\n",
       "    <tr>\n",
       "      <th>8790</th>\n",
       "      <td>8790</td>\n",
       "      <td>there should be a bird on the bear's back</td>\n",
       "    </tr>\n",
       "    <tr>\n",
       "      <th>8791</th>\n",
       "      <td>8791</td>\n",
       "      <td>change the cat into an owl</td>\n",
       "    </tr>\n",
       "    <tr>\n",
       "      <th>8792</th>\n",
       "      <td>8792</td>\n",
       "      <td>change the glass of water into a glass of cola</td>\n",
       "    </tr>\n",
       "  </tbody>\n",
       "</table>\n",
       "<p>8793 rows × 2 columns</p>\n",
       "</div>"
      ],
      "text/plain": [
       "        id                                            name\n",
       "0        0         make flames coming out of the fireplace\n",
       "1        1                     have a dog wait at the door\n",
       "2        2             have the person be holding a guitar\n",
       "3        3                        get rid of the notebooks\n",
       "4        4                 change the books to knickknacks\n",
       "...    ...                                             ...\n",
       "8788  8788                       let the sign board be red\n",
       "8789  8789                 only one bear should be visible\n",
       "8790  8790       there should be a bird on the bear's back\n",
       "8791  8791                      change the cat into an owl\n",
       "8792  8792  change the glass of water into a glass of cola\n",
       "\n",
       "[8793 rows x 2 columns]"
      ]
     },
     "execution_count": 17,
     "metadata": {},
     "output_type": "execute_result"
    }
   ],
   "source": [
    "# MagicBrush\n",
    "instructions_df"
   ]
  },
  {
   "cell_type": "code",
   "execution_count": 18,
   "id": "d29f3a46-992b-4e2f-acc9-780a5890e824",
   "metadata": {},
   "outputs": [],
   "source": [
    "instructions_df.to_csv(f\"{dataset_path}/labels.csv\", index=False)"
   ]
  },
  {
   "cell_type": "markdown",
   "id": "2a467dc4-15a8-4a3d-8fed-c221ff6e0996",
   "metadata": {},
   "source": [
    "### Create .txt Files for Train / Test Split\n",
    "ViFi-CLIP also requires two .txt files with corresponding data for training and testing. Each line contains the video identifier (e.g., *vvpaOa08GGY.mp4*) along with the instruction id.\n",
    "\n",
    "The data is being shuffled (seed=42) prior to dividing it into test (20%) and train (80%) splits. "
   ]
  },
  {
   "cell_type": "code",
   "execution_count": 19,
   "id": "1f6ec1ea-1fdf-4ec5-b46c-b592e029a6ac",
   "metadata": {},
   "outputs": [],
   "source": [
    "labels_df = pd.read_csv(f\"{dataset_path}/labels.csv\")"
   ]
  },
  {
   "cell_type": "code",
   "execution_count": 20,
   "id": "e185f080-4c47-4dc5-8c68-a5e7f3299a49",
   "metadata": {},
   "outputs": [
    {
     "name": "stdout",
     "output_type": "stream",
     "text": [
      "Files train.txt und test.txt were created successfully.\n"
     ]
    }
   ],
   "source": [
    "combined_df[image_id_column] = combined_df[image_id_column].str.replace(\n",
    "    r\"\\s\", \"\", regex=True\n",
    ")  # remove space\n",
    "combined_df[image_id_column] = combined_df[image_id_column].str.replace(\n",
    "    r\"\\(\\d+\\)\", lambda m: m.group(0).replace(\" \", \"\"), regex=True\n",
    ")  # one image name contains a faulty blank character\n",
    "combined_df[\"VIDEO_NAME\"] = combined_df[image_id_column] + \".mp4\"\n",
    "\n",
    "combined_df[\"EDITING_INSTRUCTION_CLEAN\"] = (\n",
    "    combined_df[instr_column].str.lower().str.replace(\".\", \"\", regex=False)\n",
    ")  # lowercase instructions and remove sentence points\n",
    "combined_df = combined_df.merge(\n",
    "    labels_df, how=\"left\", left_on=\"EDITING_INSTRUCTION_CLEAN\", right_on=\"name\"\n",
    ")\n",
    "\n",
    "# shuffle data (seed 42)\n",
    "combined_df = combined_df.sample(frac=1, random_state=42).reset_index(drop=True)\n",
    "\n",
    "# split in test (20%) and train (80%)\n",
    "train_size = int(0.8 * len(combined_df))\n",
    "train_df = combined_df.iloc[:train_size]\n",
    "test_df = combined_df.iloc[train_size:]\n",
    "\n",
    "with open(f\"{dataset_path}/train.txt\", \"w\") as train_file:\n",
    "    for _, row in train_df.iterrows():\n",
    "        train_file.write(f\"{row['VIDEO_NAME']} {row['id']}\\n\")\n",
    "\n",
    "with open(f\"{dataset_path}/test.txt\", \"w\") as test_file:\n",
    "    for _, row in test_df.iterrows():\n",
    "        test_file.write(f\"{row['VIDEO_NAME']} {row['id']}\\n\")\n",
    "\n",
    "print(\"Files train.txt und test.txt were created successfully.\")"
   ]
  },
  {
   "cell_type": "markdown",
   "id": "de6bd09b-8a03-4cd2-ae84-8f25e54880aa",
   "metadata": {},
   "source": [
    "### Create Dataframes for OpenCLIP (ONLY MagicBrush)\n",
    "\n",
    "Fine-tuning Vanilla CLIP through image fusion, as conducted during the preliminary studies, requires the dataset to be in a different format. Instead of the elements mentioned above, it requires .csv files containing the following fields: id, turn, instruction, and directory paths to the input and output images.\n"
   ]
  },
  {
   "cell_type": "code",
   "execution_count": null,
   "id": "a9027540-28aa-4231-a8cc-7014eeff32b8",
   "metadata": {},
   "outputs": [],
   "source": [
    "train_df = pd.DataFrame(\n",
    "    columns=[\"img_id\", \"turn_index\", \"source_img\", \"target_img\", \"instruction\"]\n",
    ")\n",
    "dev_df = pd.DataFrame(\n",
    "    columns=[\"img_id\", \"turn_index\", \"source_img\", \"target_img\", \"instruction\"]\n",
    ")\n",
    "\n",
    "# read bytes, resize to 512x512, and save image\n",
    "# imgage of class 'dict': ['bytes', 'path']\n",
    "\n",
    "\n",
    "def process_image(image, save_dir):\n",
    "    image_data = image[\"bytes\"]\n",
    "    img = Image.open(io.BytesIO(image_data))\n",
    "    img = img.resize((512, 512))\n",
    "\n",
    "    save_path = os.path.join(save_dir, image[\"path\"])\n",
    "    img.save(save_path)\n",
    "    return save_path\n",
    "\n",
    "\n",
    "parquet_path = f\"{dataset_path}/images\"\n",
    "\n",
    "# loop over all parquet files\n",
    "for filename in tqdm(os.listdir(parquet_path), \"Process parquet files\"):\n",
    "    if filename.endswith(\".parquet\"):\n",
    "        file_path = os.path.join(parquet_path, filename)\n",
    "        temp_df = pd.read_parquet(file_path)\n",
    "\n",
    "        # create a dic for the images related to this parquet file\n",
    "        parquet_image_dir = os.path.join(parquet_path, os.path.splitext(filename)[0])\n",
    "        os.makedirs(parquet_image_dir, exist_ok=True)\n",
    "        # os.makedirs(os.path.splitext(filename)[0], exist_ok=True)\n",
    "\n",
    "        # filter out masks\n",
    "        if \"mask_img\" in temp_df.columns:\n",
    "            temp_df = temp_df.drop(columns=[\"mask_img\"])\n",
    "\n",
    "        # prepare a temporary dataframe to store the necessary columns\n",
    "        temp_processed_df = pd.DataFrame(\n",
    "            columns=[\"img_id\", \"turn_index\", \"source_img\", \"target_img\", \"instruction\"]\n",
    "        )\n",
    "\n",
    "        processed_rows = []\n",
    "        for idx, row in temp_df.iterrows():\n",
    "            if (\n",
    "                \"img_id\" in row\n",
    "                and \"turn_index\" in row\n",
    "                and \"source_img\" in row\n",
    "                and \"target_img\" in row\n",
    "                and \"instruction\" in row\n",
    "            ):\n",
    "\n",
    "                source_path = process_image(row[\"source_img\"], parquet_image_dir)\n",
    "                source_img_path = source_path\n",
    "\n",
    "                target_path = process_image(row[\"target_img\"], parquet_image_dir)\n",
    "                target_img_path = target_path\n",
    "\n",
    "                # create a new row with the required columns\n",
    "                new_row = {\n",
    "                    \"img_id\": row[\"img_id\"],\n",
    "                    \"turn_index\": row[\"turn_index\"],\n",
    "                    \"source_img\": source_img_path,\n",
    "                    \"target_img\": target_img_path,\n",
    "                    \"instruction\": row[\"instruction\"],\n",
    "                }\n",
    "                processed_rows.append(new_row)\n",
    "\n",
    "        temp_processed_df = pd.concat(\n",
    "            [temp_processed_df, pd.DataFrame(processed_rows)], ignore_index=True\n",
    "        )\n",
    "\n",
    "        # append to corresponding df\n",
    "        if filename.startswith(\"train\"):\n",
    "            train_df = pd.concat([train_df, temp_processed_df])\n",
    "        elif filename.startswith(\"dev\"):\n",
    "            dev_df = pd.concat([dev_df, temp_processed_df])\n",
    "\n",
    "\n",
    "if dataset == \"MagicBrush\":\n",
    "    train_df.to_csv(f\"{dataset_path}/train_data.csv\", index=False)\n",
    "    dev_df.to_csv(f\"{dataset_path}/dev_data.csv\", index=False)\n",
    "\n",
    "    print(\"Images processed and DataFrames saved successfully!\")"
   ]
  },
  {
   "cell_type": "markdown",
   "id": "5eb501d2-420a-401d-b13e-39e19fad68d7",
   "metadata": {},
   "source": [
    "### Generate 8-frame videos (alternate)\n",
    "\n",
    "Different configurations were tested, including the amount of frames per video. As [research](https://arxiv.org/pdf/2104.08860) suggests that the number of frames should be minimum 6, or optimally 8, additional intermediate frames are generated via alpha blending."
   ]
  },
  {
   "cell_type": "code",
   "execution_count": 25,
   "id": "4f8d2f60-6f58-4cf3-a7d0-510971d7dc40",
   "metadata": {},
   "outputs": [],
   "source": [
    "input_dir = f\"{dataset_path}/videos\"\n",
    "output_dir = f\"{dataset_path}/videos_8_frames\"\n",
    "\n",
    "if not os.path.exists(output_dir):\n",
    "    os.makedirs(output_dir)\n",
    "\n",
    "# alpha blending\n",
    "\n",
    "\n",
    "def alpha_blend(frame1, frame2, alpha):\n",
    "    return cv2.addWeighted(frame1, 1 - alpha, frame2, alpha, 0)\n",
    "\n",
    "\n",
    "def process_video(video_path, output_path):\n",
    "    cap = cv2.VideoCapture(video_path)\n",
    "\n",
    "    if not cap.isOpened():\n",
    "        print(f\"Error: Could not open video {video_path}\")\n",
    "        return\n",
    "\n",
    "    ret, first_frame = cap.read()  # First frame\n",
    "    cap.set(cv2.CAP_PROP_POS_FRAMES, cap.get(cv2.CAP_PROP_FRAME_COUNT) - 1)\n",
    "    ret, last_frame = cap.read()  # Last frame\n",
    "\n",
    "    first_frame = np.float32(first_frame)\n",
    "    last_frame = np.float32(last_frame)\n",
    "\n",
    "    # generate 6 intermediate frames\n",
    "    frames = [first_frame]  # first frame\n",
    "    for i in range(1, 7):\n",
    "        alpha = i / 8.0\n",
    "        blended_frame = alpha_blend(first_frame, last_frame, alpha)\n",
    "        frames.append(np.uint8(blended_frame))\n",
    "\n",
    "    frames.append(last_frame)  # last frame\n",
    "\n",
    "    height, width, _ = first_frame.shape\n",
    "    fourcc = cv2.VideoWriter_fourcc(*\"mp4v\")\n",
    "    out = cv2.VideoWriter(output_path, fourcc, 30, (width, height))\n",
    "\n",
    "    for frame in frames:\n",
    "        out.write(np.uint8(frame))\n",
    "\n",
    "    out.release()\n",
    "    cap.release()"
   ]
  },
  {
   "cell_type": "code",
   "execution_count": null,
   "id": "329e63cf-f374-4c3e-ab22-e2d709d18fee",
   "metadata": {},
   "outputs": [],
   "source": [
    "for video_filename in tqdm(os.listdir(input_dir), \"Extend videos\"):\n",
    "    if video_filename.endswith(\".mp4\"):\n",
    "        video_path = os.path.join(input_dir, video_filename)\n",
    "        output_path = os.path.join(output_dir, video_filename)\n",
    "        process_video(video_path, output_path)\n",
    "\n",
    "print(\"Videos extended and saved!\")"
   ]
  },
  {
   "cell_type": "markdown",
   "id": "87b2bd4a-2071-4e71-bf0d-16f8e73ba070",
   "metadata": {},
   "source": [
    "### Create label.csv files specifically for train und test split\n",
    "Not necessarily required. Generates .csv files containing unique instructions and their IDs, but additionally separates them into individual files for the train and test splits."
   ]
  },
  {
   "cell_type": "code",
   "execution_count": 27,
   "id": "79112fc4-0d19-445e-a0a6-ef53f48e1535",
   "metadata": {},
   "outputs": [
    {
     "name": "stdout",
     "output_type": "stream",
     "text": [
      "CSV-files successfully created.\n"
     ]
    }
   ],
   "source": [
    "labels_df = pd.read_csv(f\"{dataset_path}/labels.csv\")\n",
    "\n",
    "\n",
    "def extract_ids(txt_file):\n",
    "    with open(txt_file, \"r\") as file:\n",
    "        lines = file.readlines()\n",
    "    ids = {line.split()[1] for line in lines}\n",
    "    return ids\n",
    "\n",
    "\n",
    "# get id from .txt files\n",
    "train_ids = extract_ids(f\"{dataset_path}/train.txt\")\n",
    "test_ids = extract_ids(f\"{dataset_path}/test.txt\")\n",
    "\n",
    "train_filtered = labels_df[labels_df[\"id\"].astype(str).isin(train_ids)]\n",
    "test_filtered = labels_df[labels_df[\"id\"].astype(str).isin(test_ids)]\n",
    "\n",
    "train_filtered = train_filtered.drop_duplicates(subset=\"id\")\n",
    "test_filtered = test_filtered.drop_duplicates(subset=\"id\")\n",
    "\n",
    "train_filtered.to_csv(f\"{dataset_path}/train.csv\", index=False)\n",
    "test_filtered.to_csv(f\"{dataset_path}/test.csv\", index=False)\n",
    "\n",
    "print(\"CSV-files successfully created.\")"
   ]
  },
  {
   "cell_type": "markdown",
   "id": "7066ef07-de96-40ed-b3f0-32cd8f1c6eca",
   "metadata": {},
   "source": [
    "## Generate splits for 5-fold cross-validation\n",
    "To accurately assess the model's performance, cross-validation in conducted. This requires dividing the dataset into five distinct subsets."
   ]
  },
  {
   "cell_type": "code",
   "execution_count": 3,
   "id": "35e3819a-c220-4a56-adf2-7291fc0af077",
   "metadata": {},
   "outputs": [],
   "source": [
    "# get whole dataset\n",
    "with open(\"humanedit/test.txt\", encoding='utf-8') as file:\n",
    "    test_split = file.read()\n",
    "\n",
    "with open(\"humanedit/train.txt\", encoding='utf-8') as file:\n",
    "    train_split = file.read()\n",
    "    \n",
    "entire_split = test_split + \"\\n\" + train_split\n",
    "entire_split = entire_split.split('\\n')"
   ]
  },
  {
   "cell_type": "code",
   "execution_count": 13,
   "id": "396d3806-fbb7-4949-b406-045cd162a1c6",
   "metadata": {},
   "outputs": [],
   "source": [
    "# shuffle\n",
    "random.shuffle(entire_split)"
   ]
  },
  {
   "cell_type": "code",
   "execution_count": 17,
   "id": "140b7c5d-c7d1-4a78-b5be-b756e26e1ca1",
   "metadata": {},
   "outputs": [],
   "source": [
    "# get k=5 splits\n",
    "k=5\n",
    "folds = [entire_split[i::k] for i in range(k)]\n",
    "k_fold_datasets = []\n",
    "for i in range(k):\n",
    "    test_set = folds[i]\n",
    "    train_set = [item for j, fold in enumerate(folds) if j != i for item in fold]\n",
    "    k_fold_datasets.append((train_set, test_set))"
   ]
  },
  {
   "cell_type": "code",
   "execution_count": 22,
   "id": "ea3e5d82-5dfc-4dcf-a06a-57d1983e5386",
   "metadata": {},
   "outputs": [],
   "source": [
    "# save files\n",
    "output_dir=\"humanedit/5f_cv\"\n",
    "os.makedirs(output_dir, exist_ok=True)\n",
    "\n",
    "for i, (train, test) in enumerate(k_fold_datasets):\n",
    "    with open(f\"{output_dir}/train_fold_{i+1}.txt\", \"w\") as f:\n",
    "        f.writelines(\"\\n\".join(train) + \"\\n\")\n",
    "    with open(f\"{output_dir}/test_fold_{i+1}.txt\", \"w\") as f:\n",
    "        f.writelines(\"\\n\".join(test) + \"\\n\")"
   ]
  },
  {
   "cell_type": "code",
   "execution_count": null,
   "id": "fb728c91-1b6d-416b-be05-d26e4cfa366c",
   "metadata": {},
   "outputs": [],
   "source": []
  }
 ],
 "metadata": {
  "kernelspec": {
   "display_name": "Python 3 (ipykernel)",
   "language": "python",
   "name": "python3"
  },
  "language_info": {
   "codemirror_mode": {
    "name": "ipython",
    "version": 3
   },
   "file_extension": ".py",
   "mimetype": "text/x-python",
   "name": "python",
   "nbconvert_exporter": "python",
   "pygments_lexer": "ipython3",
   "version": "3.9.13"
  }
 },
 "nbformat": 4,
 "nbformat_minor": 5
}
