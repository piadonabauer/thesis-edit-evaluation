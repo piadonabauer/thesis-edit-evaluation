{
 "cells": [
  {
   "cell_type": "markdown",
   "id": "b00843e3-aec0-4213-bcaa-37eed09fe9bb",
   "metadata": {},
   "source": [
    "# Analyse MagicBrush Ratings from VieScore "
   ]
  },
  {
   "cell_type": "code",
   "execution_count": 60,
   "id": "34927d34-ebce-4610-b318-594c7eeb6efe",
   "metadata": {},
   "outputs": [],
   "source": [
    "import pandas as pd\n",
    "import re\n",
    "from ast import literal_eval\n",
    "from scipy.stats import kendalltau\n",
    "import numpy as np\n",
    "import pingouin as pg"
   ]
  },
  {
   "cell_type": "markdown",
   "id": "84ec3117-8298-468e-b05c-0739039d29ed",
   "metadata": {},
   "source": [
    "Convert .tsv files in .csv. Filter for only MagicBrush ratings, ignore other datasets."
   ]
  },
  {
   "cell_type": "code",
   "execution_count": 61,
   "id": "c8cbe2c3-8452-4473-8224-9952d9cbb3c9",
   "metadata": {},
   "outputs": [],
   "source": [
    "def extract_numbers(uid):\n",
    "    match = re.search(r'_(\\d+)_(\\d+)', uid)\n",
    "    if match:\n",
    "        return int(match.group(1)), int(match.group(2))  # Erste und zweite Zahl zurückgeben\n",
    "    return None, None"
   ]
  },
  {
   "cell_type": "code",
   "execution_count": 62,
   "id": "5d2e5471-e9c5-4fda-9789-ef48b5e8ba46",
   "metadata": {},
   "outputs": [],
   "source": [
    "def get_rater_df(rater: int):\n",
    "    rater = pd.read_csv(f\"Text-Guided_IE_rater{rater}.tsv\", sep=\"\\t\")\n",
    "    rater = rater[[ \"uid\", \"MagicBrush\"]]\n",
    "    rater[['id', 'turn']] = rater['uid'].apply(lambda x: pd.Series(extract_numbers(x)))\n",
    "    rater[\"MagicBrush\"] = rater[\"MagicBrush\"].apply(literal_eval)\n",
    "    rater[\"SC\"] = rater[\"MagicBrush\"].apply(lambda x: x[0])\n",
    "    rater[\"PQ\"] = rater[\"MagicBrush\"].apply(lambda x: x[1])\n",
    "    rater = rater.drop([\"MagicBrush\"], axis=1)\n",
    "    rater = rater.drop([\"uid\"], axis=1)\n",
    "    return rater"
   ]
  },
  {
   "cell_type": "code",
   "execution_count": 63,
   "id": "4f139f23-b08f-4ec2-bda8-f0c6cc01f074",
   "metadata": {},
   "outputs": [],
   "source": [
    "r1 = get_rater_df(1)\n",
    "r2 = get_rater_df(2)\n",
    "r3 = get_rater_df(3)"
   ]
  },
  {
   "cell_type": "code",
   "execution_count": 64,
   "id": "8e4c029d-8e6e-479a-8d70-4dacd852b9a8",
   "metadata": {},
   "outputs": [],
   "source": [
    "r1.to_csv(\"rater1.csv\", index=False)\n",
    "r2.to_csv(\"rater2.csv\", index=False)\n",
    "r3.to_csv(\"rater3.csv\", index=False)"
   ]
  },
  {
   "cell_type": "markdown",
   "id": "07ee254d-1844-4f33-ab24-233f0fffca5f",
   "metadata": {},
   "source": [
    "Compute kendall's tau for interrater agreement."
   ]
  },
  {
   "cell_type": "code",
   "execution_count": 66,
   "id": "4319510b-ffae-4d19-9825-164ad1ca634c",
   "metadata": {},
   "outputs": [],
   "source": [
    "merged_df = r1.merge(r2, on=['turn', 'id'], suffixes=('_r1', '_r2'))\n",
    "r3 = r3.rename(columns={'SC': 'SC_r3', 'PQ': 'PQ_r3'})\n",
    "merged_df = merged_df.merge(r3, on=['turn', 'id'])"
   ]
  },
  {
   "cell_type": "code",
   "execution_count": 67,
   "id": "c43b2738-7e3f-47d3-a3e0-c5c81c22c50c",
   "metadata": {},
   "outputs": [
    {
     "name": "stdout",
     "output_type": "stream",
     "text": [
      "Kendall's W for SC: 0.774\n"
     ]
    }
   ],
   "source": [
    "sc_ratings = merged_df[['SC_r1', 'SC_r2', 'SC_r3']]\n",
    "kendall_w_sc = pg.friedman(data=sc_ratings.T).round(3)\n",
    "\n",
    "print(f\"Kendall's W for SC: {kendall_w_sc['W'].values[0]}\")"
   ]
  },
  {
   "cell_type": "code",
   "execution_count": 68,
   "id": "38e52896-7bfd-43c1-879f-a9cc5026d6d5",
   "metadata": {},
   "outputs": [
    {
     "name": "stdout",
     "output_type": "stream",
     "text": [
      "Kendall's W for SC: 0.66\n"
     ]
    }
   ],
   "source": [
    "sc_ratings = merged_df[['PQ_r1', 'PQ_r2', 'PQ_r3']]\n",
    "kendall_w_sc = pg.friedman(data=sc_ratings.T).round(3)\n",
    "\n",
    "print(f\"Kendall's W for SC: {kendall_w_sc['W'].values[0]}\")"
   ]
  },
  {
   "cell_type": "markdown",
   "id": "489ca758-38bf-40bf-a546-256bd71df008",
   "metadata": {},
   "source": [
    "Compute Mean and Standard Deviation for both *Semantic Consistency (SC)* and *Perceptual Quality (PQ)*."
   ]
  },
  {
   "cell_type": "code",
   "execution_count": 72,
   "id": "4b731373-36ca-4809-9fca-9740e3cd959b",
   "metadata": {},
   "outputs": [
    {
     "name": "stdout",
     "output_type": "stream",
     "text": [
      "annotator 1 - SC:\n",
      "  std dev: 0.404\n",
      "  mean: 0.506\n",
      "annotator 1 - PQ:\n",
      "  std dev: 0.347\n",
      "  mean: 0.712\n",
      "annotator 2 - SC:\n",
      "  std dev: 0.409\n",
      "  mean: 0.508\n",
      "annotator 2 - PQ:\n",
      "  std dev: 0.391\n",
      "  mean: 0.575\n",
      "annotator 3 - SC:\n",
      "  std dev: 0.401\n",
      "  mean: 0.52\n",
      "annotator 3 - PQ:\n",
      "  std dev: 0.353\n",
      "  mean: 0.656\n"
     ]
    }
   ],
   "source": [
    "annotator_files = ['rater1.csv', 'rater2.csv', 'rater3.csv']\n",
    "\n",
    "all_sc_values = []\n",
    "all_pq_values = []\n",
    "\n",
    "for i, file in enumerate(annotator_files, start=1):\n",
    "    df = pd.read_csv(file)\n",
    "    all_sc_values.extend(df['SC'].tolist())\n",
    "    all_pq_values.extend(df['PQ'].tolist())\n",
    "    \n",
    "    for col in ['SC', 'PQ']:\n",
    "        std_value = df[col].std()\n",
    "        mean_value = df[col].mean()\n",
    "        \n",
    "        print(f\"annotator {i} - {col}:\")\n",
    "        print(f\"  std dev: {round(std_value, 3)}\")\n",
    "        print(f\"  mean: {round(mean_value, 3)}\")"
   ]
  },
  {
   "cell_type": "code",
   "execution_count": 73,
   "id": "bf06a93a-ec5c-465e-a151-c6580b284bd0",
   "metadata": {},
   "outputs": [
    {
     "name": "stdout",
     "output_type": "stream",
     "text": [
      "Global mean for SC: 0.511\n",
      "Global std dev for SC: 0.404\n",
      "Global mean for PQ: 0.648\n",
      "Global std dev for PQ: 0.368\n"
     ]
    }
   ],
   "source": [
    "mean_sc_all = pd.Series(all_sc_values).mean()\n",
    "std_sc_all = pd.Series(all_sc_values).std()\n",
    "\n",
    "mean_pq_all = pd.Series(all_pq_values).mean()\n",
    "std_pq_all = pd.Series(all_pq_values).std()\n",
    "\n",
    "print(f\"Global mean for SC: {round(mean_sc_all, 3)}\")\n",
    "print(f\"Global std dev for SC: {round(std_sc_all, 3)}\")\n",
    "print(f\"Global mean for PQ: {round(mean_pq_all, 3)}\")\n",
    "print(f\"Global std dev for PQ: {round(std_pq_all, 3)}\")"
   ]
  },
  {
   "cell_type": "code",
   "execution_count": null,
   "id": "fa181c74-77c1-473d-93c3-6dfda78465d2",
   "metadata": {},
   "outputs": [],
   "source": []
  }
 ],
 "metadata": {
  "kernelspec": {
   "display_name": "Python 3 (ipykernel)",
   "language": "python",
   "name": "python3"
  },
  "language_info": {
   "codemirror_mode": {
    "name": "ipython",
    "version": 3
   },
   "file_extension": ".py",
   "mimetype": "text/x-python",
   "name": "python",
   "nbconvert_exporter": "python",
   "pygments_lexer": "ipython3",
   "version": "3.9.13"
  }
 },
 "nbformat": 4,
 "nbformat_minor": 5
}
