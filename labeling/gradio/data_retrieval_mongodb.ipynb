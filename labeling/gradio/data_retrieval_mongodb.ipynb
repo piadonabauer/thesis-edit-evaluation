{
 "cells": [
  {
   "cell_type": "markdown",
   "metadata": {},
   "source": [
    "# Check contents of MongoDB"
   ]
  },
  {
   "cell_type": "markdown",
   "metadata": {},
   "source": [
    "Install required libraries."
   ]
  },
  {
   "cell_type": "code",
   "execution_count": null,
   "metadata": {
    "ExecuteTime": {
     "end_time": "2025-03-11T19:52:39.768415Z",
     "start_time": "2025-03-11T19:52:39.515545Z"
    },
    "collapsed": false,
    "jupyter": {
     "outputs_hidden": false
    }
   },
   "outputs": [],
   "source": [
    "import os\n",
    "import numpy as np\n",
    "import pandas as pd\n",
    "import krippendorff\n",
    "\n",
    "from pymongo import MongoClient\n",
    "from dotenv import load_dotenv\n",
    "from scipy.stats import mode\n",
    "from pingouin import intraclass_corr"
   ]
  },
  {
   "cell_type": "code",
   "execution_count": 2,
   "metadata": {
    "ExecuteTime": {
     "end_time": "2025-03-11T19:52:39.772004Z",
     "start_time": "2025-03-11T19:52:39.609906Z"
    },
    "collapsed": false,
    "jupyter": {
     "outputs_hidden": false
    }
   },
   "outputs": [],
   "source": [
    "load_dotenv() # load gitignore\n",
    "\n",
    "mongo_user = os.getenv('MONGO_USER')\n",
    "mongo_password = os.getenv('MONGO_PASSWORD')\n",
    "cluster_url = os.getenv('MONGO_CLUSTER_URL')\n",
    "gradio_user = os.getenv('GRADIO_USER')\n",
    "gradio_password = os.getenv('GRADIO_PASSWORD')"
   ]
  },
  {
   "cell_type": "code",
   "execution_count": 3,
   "metadata": {
    "ExecuteTime": {
     "end_time": "2025-03-11T19:52:40.754416Z",
     "start_time": "2025-03-11T19:52:40.657263Z"
    },
    "tags": []
   },
   "outputs": [],
   "source": [
    "connection_url = f\"mongodb+srv://{mongo_user}:{mongo_password}@{cluster_url}\"\n",
    "client = MongoClient(connection_url)\n",
    "db = client[\"thesis\"]\n",
    "collection = db[\"labeling\"]"
   ]
  },
  {
   "cell_type": "markdown",
   "metadata": {},
   "source": [
    "Get all raters with their amount of data annotated."
   ]
  },
  {
   "cell_type": "code",
   "execution_count": 4,
   "metadata": {
    "ExecuteTime": {
     "end_time": "2025-03-11T19:52:42.598602Z",
     "start_time": "2025-03-11T19:52:42.589161Z"
    },
    "collapsed": false,
    "jupyter": {
     "outputs_hidden": false
    }
   },
   "outputs": [],
   "source": [
    "def get_labels_per_annotator():\n",
    "    \"\"\"Get the number of labels given by each annotator.\"\"\"\n",
    "    pipeline = [\n",
    "        {\"$unwind\": \"$ratings\"},\n",
    "        {\"$group\": {\n",
    "            \"_id\": \"$ratings.rater\",  # group by annotator name\n",
    "            \"count\": {\"$sum\": 1}  # count number of ratings per annotator\n",
    "        }},\n",
    "        {\"$sort\": {\"count\": -1}}  # sort in descending order\n",
    "    ]\n",
    "\n",
    "    results = list(collection.aggregate(pipeline))\n",
    "    return {result[\"_id\"]: result[\"count\"] for result in results}"
   ]
  },
  {
   "cell_type": "code",
   "execution_count": 5,
   "metadata": {
    "ExecuteTime": {
     "end_time": "2025-03-11T19:52:43.981769Z",
     "start_time": "2025-03-11T19:52:43.816807Z"
    },
    "collapsed": false,
    "jupyter": {
     "outputs_hidden": false
    }
   },
   "outputs": [
    {
     "name": "stdout",
     "output_type": "stream",
     "text": [
      "Names & labels per annotator: {'ej': 346, 'basil': 346, 'renz': 346, 'pia': 346, 'Thomas': 231, 'sona': 165, 'gaurav': 5, 'michal': 2, 'Alex T': 2, 'Tuna ': 1, 'holding three fingers up': 1, 'kiko': 1, 'character intro': 1, 'H': 1, 'tim': 1, 'Abhi': 1, 'kaku': 1, 'Ghost ': 1}\n"
     ]
    }
   ],
   "source": [
    "labels_per_annotator = get_labels_per_annotator()\n",
    "print(\"Names & labels per annotator:\", labels_per_annotator)"
   ]
  },
  {
   "cell_type": "markdown",
   "metadata": {},
   "source": [
    "Delete specified annotator."
   ]
  },
  {
   "cell_type": "code",
   "execution_count": 6,
   "metadata": {
    "ExecuteTime": {
     "end_time": "2025-03-10T09:59:31.841019Z",
     "start_time": "2025-03-10T09:59:31.786966Z"
    },
    "collapsed": false,
    "jupyter": {
     "outputs_hidden": false
    }
   },
   "outputs": [
    {
     "name": "stdout",
     "output_type": "stream",
     "text": [
      "Number of deleted entries: 128\n"
     ]
    }
   ],
   "source": [
    "rater_to_delete = \"Pia\"\n",
    "\n",
    "result = collection.update_many(\n",
    "    {\"ratings.rater\": rater_to_delete},\n",
    "    {\"$pull\": {\"ratings\": {\"rater\": rater_to_delete}}}\n",
    ")\n",
    "\n",
    "print(f\"Number of deleted entries: {result.modified_count}\")"
   ]
  },
  {
   "cell_type": "markdown",
   "metadata": {
    "ExecuteTime": {
     "end_time": "2025-02-05T15:22:05.422845Z",
     "start_time": "2025-02-05T15:22:05.418055Z"
    },
    "jupyter": {
     "outputs_hidden": false
    }
   },
   "source": [
    "Initial analysis of entries for a brief overview."
   ]
  },
  {
   "cell_type": "code",
   "execution_count": 11,
   "metadata": {
    "ExecuteTime": {
     "end_time": "2025-02-05T15:08:47.307667Z",
     "start_time": "2025-02-05T15:08:47.196856Z"
    },
    "collapsed": false,
    "jupyter": {
     "outputs_hidden": false
    }
   },
   "outputs": [],
   "source": [
    "annotators = {\"sona\", \"Thomas\", \"ej\", \"renz\", \"basil\"}\n",
    "\n",
    "pipeline = [\n",
    "    {\"$match\": {\"ratings.rater\": {\"$in\": list(annotators)}}},\n",
    "    {\"$unwind\": \"$ratings\"},\n",
    "    {\"$match\": {\"ratings.rater\": {\"$in\": list(annotators)}}},\n",
    "    {\"$project\": {\"rater\": \"$ratings.rater\", \"alignment\": \"$ratings.alignment\", \"quality\": \"$ratings.quality\", \"consistency\": \"$ratings.consistency\", \"overall\": \"$ratings.overall\"}}\n",
    "]\n",
    "\n",
    "data = list(collection.aggregate(pipeline))\n",
    "df = pd.DataFrame(data)"
   ]
  },
  {
   "cell_type": "code",
   "execution_count": 45,
   "metadata": {
    "ExecuteTime": {
     "end_time": "2025-02-05T15:40:08.881452Z",
     "start_time": "2025-02-05T15:40:08.874437Z"
    },
    "collapsed": false,
    "jupyter": {
     "outputs_hidden": false
    }
   },
   "outputs": [
    {
     "data": {
      "text/html": [
       "<div>\n",
       "<style scoped>\n",
       "    .dataframe tbody tr th:only-of-type {\n",
       "        vertical-align: middle;\n",
       "    }\n",
       "\n",
       "    .dataframe tbody tr th {\n",
       "        vertical-align: top;\n",
       "    }\n",
       "\n",
       "    .dataframe thead th {\n",
       "        text-align: right;\n",
       "    }\n",
       "</style>\n",
       "<table border=\"1\" class=\"dataframe\">\n",
       "  <thead>\n",
       "    <tr style=\"text-align: right;\">\n",
       "      <th></th>\n",
       "      <th>_id</th>\n",
       "      <th>rater</th>\n",
       "      <th>alignment</th>\n",
       "      <th>quality</th>\n",
       "      <th>consistency</th>\n",
       "      <th>overall</th>\n",
       "    </tr>\n",
       "  </thead>\n",
       "  <tbody>\n",
       "    <tr>\n",
       "      <th>0</th>\n",
       "      <td>677d856e8640497613a5ea32</td>\n",
       "      <td>Thomas</td>\n",
       "      <td>1</td>\n",
       "      <td>5</td>\n",
       "      <td>6</td>\n",
       "      <td>1</td>\n",
       "    </tr>\n",
       "    <tr>\n",
       "      <th>1</th>\n",
       "      <td>677d856e8640497613a5ea32</td>\n",
       "      <td>renz</td>\n",
       "      <td>1</td>\n",
       "      <td>10</td>\n",
       "      <td>10</td>\n",
       "      <td>1</td>\n",
       "    </tr>\n",
       "    <tr>\n",
       "      <th>2</th>\n",
       "      <td>677d856e8640497613a5ea32</td>\n",
       "      <td>ej</td>\n",
       "      <td>1</td>\n",
       "      <td>10</td>\n",
       "      <td>10</td>\n",
       "      <td>2</td>\n",
       "    </tr>\n",
       "    <tr>\n",
       "      <th>3</th>\n",
       "      <td>677d856e8640497613a5ea32</td>\n",
       "      <td>basil</td>\n",
       "      <td>0</td>\n",
       "      <td>10</td>\n",
       "      <td>10</td>\n",
       "      <td>0</td>\n",
       "    </tr>\n",
       "    <tr>\n",
       "      <th>4</th>\n",
       "      <td>677d856e8640497613a5ea35</td>\n",
       "      <td>Thomas</td>\n",
       "      <td>7</td>\n",
       "      <td>5</td>\n",
       "      <td>5</td>\n",
       "      <td>6</td>\n",
       "    </tr>\n",
       "  </tbody>\n",
       "</table>\n",
       "</div>"
      ],
      "text/plain": [
       "                        _id   rater  alignment  quality  consistency  overall\n",
       "0  677d856e8640497613a5ea32  Thomas          1        5            6        1\n",
       "1  677d856e8640497613a5ea32    renz          1       10           10        1\n",
       "2  677d856e8640497613a5ea32      ej          1       10           10        2\n",
       "3  677d856e8640497613a5ea32   basil          0       10           10        0\n",
       "4  677d856e8640497613a5ea35  Thomas          7        5            5        6"
      ]
     },
     "execution_count": 45,
     "metadata": {},
     "output_type": "execute_result"
    }
   ],
   "source": [
    "df.head()"
   ]
  },
  {
   "cell_type": "code",
   "execution_count": 43,
   "metadata": {
    "ExecuteTime": {
     "end_time": "2025-02-05T15:38:26.726594Z",
     "start_time": "2025-02-05T15:38:26.176664Z"
    },
    "collapsed": false,
    "jupyter": {
     "outputs_hidden": false
    }
   },
   "outputs": [
    {
     "name": "stdout",
     "output_type": "stream",
     "text": [
      "ratings per aspect\n",
      "\n",
      "alignment\n",
      "Mean: 8.071\n",
      "Median: 10.000\n",
      "Mode: 10.000\n",
      "Standard Deviation: 3.038\n",
      "ICC: 0.280\n",
      "\n",
      "quality\n",
      "Mean: 7.502\n",
      "Median: 8.000\n",
      "Mode: 10.000\n",
      "Standard Deviation: 2.639\n",
      "ICC: 0.130\n",
      "\n",
      "consistency\n",
      "Mean: 8.206\n",
      "Median: 9.000\n",
      "Mode: 10.000\n",
      "Standard Deviation: 2.416\n",
      "ICC: 0.100\n",
      "\n",
      "overall\n",
      "Mean: 7.173\n",
      "Median: 8.000\n",
      "Mode: 10.000\n",
      "Standard Deviation: 2.897\n",
      "ICC: 0.224\n",
      "\n",
      "Overall Average ICC: 0.183\n"
     ]
    }
   ],
   "source": [
    "aspects = [\"alignment\", \"quality\", \"consistency\", \"overall\"]\n",
    "stats = {}\n",
    "icc_values = []\n",
    "alpha_values = []\n",
    "\n",
    "for aspect in aspects:\n",
    "    mean_val = df[aspect].mean()\n",
    "    median_val = df[aspect].median()\n",
    "    mode_result = mode(df[aspect], nan_policy='omit')\n",
    "    mode_val = np.atleast_1d(mode_result.mode)[0] if mode_result.count.size > 0 else np.nan\n",
    "    std_dev = df[aspect].std()\n",
    "\n",
    "    # group by annotator\n",
    "    grouped = df.groupby('rater')[aspect].apply(list)\n",
    "\n",
    "    # convert to df\n",
    "    icc_data = pd.DataFrame(grouped.tolist()).T  # transpose -> each column is a rater\n",
    "    icc_data.columns = grouped.index\n",
    "\n",
    "    # column naming\n",
    "    icc_data = icc_data.reset_index().melt(id_vars=['index'], var_name='raters', value_name='ratings')\n",
    "    icc_data.rename(columns={'index': 'targets'}, inplace=True)\n",
    "\n",
    "    # ICC\n",
    "    icc_results = intraclass_corr(data=icc_data.dropna(), targets='targets', raters='raters', ratings='ratings', nan_policy='omit').round(3)\n",
    "    icc_value = icc_results[icc_results['Type'] == 'ICC2']['ICC'].values[0] if not icc_results.empty else np.nan\n",
    "    icc_values.append(icc_value)\n",
    "\n",
    "    stats[aspect] = {\n",
    "        \"Mean\": mean_val,\n",
    "        \"Median\": median_val,\n",
    "        \"Mode\": mode_val,\n",
    "        \"Standard Deviation\": std_dev,\n",
    "        \"ICC\": icc_value\n",
    "    }\n",
    "\n",
    "avg_icc = np.nanmean(icc_values)\n",
    "\n",
    "print(\"ratings per aspect\")\n",
    "for aspect, values in stats.items():\n",
    "    print(f\"\\n{aspect}\")\n",
    "    for key, val in values.items():\n",
    "        print(f\"{key}: {val:.3f}\")\n",
    "\n",
    "print(f\"\\nOverall Average ICC: {avg_icc:.3f}\")"
   ]
  }
 ],
 "metadata": {
  "kernelspec": {
   "display_name": "Python 3 (ipykernel)",
   "language": "python",
   "name": "python3"
  },
  "language_info": {
   "codemirror_mode": {
    "name": "ipython",
    "version": 3
   },
   "file_extension": ".py",
   "mimetype": "text/x-python",
   "name": "python",
   "nbconvert_exporter": "python",
   "pygments_lexer": "ipython3",
   "version": "3.9.13"
  }
 },
 "nbformat": 4,
 "nbformat_minor": 4
}
